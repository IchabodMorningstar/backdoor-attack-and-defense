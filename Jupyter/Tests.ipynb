{
 "cells": [
  {
   "cell_type": "code",
   "execution_count": 1,
   "id": "691e2263",
   "metadata": {},
   "outputs": [],
   "source": [
    "import cv2\n",
    "import numpy as np\n",
    "import matplotlib.pyplot as plt\n",
    "import os\n",
    "import pandas as pd\n",
    "from skimage.metrics import structural_similarity as ssim"
   ]
  },
  {
   "cell_type": "markdown",
   "id": "dfd9cf9f",
   "metadata": {},
   "source": [
    "# YCrCb Tests"
   ]
  },
  {
   "cell_type": "code",
   "execution_count": 1,
   "id": "c8231334",
   "metadata": {},
   "outputs": [],
   "source": [
    "def compare_images_with_visualization(img_path1, img_path2):\n",
    "        # Load the images\n",
    "    img1 = cv2.imread(img_path1)\n",
    "    img2 = cv2.imread(img_path2)\n",
    "    \n",
    "    \n",
    "    # Convert to YCrCb\n",
    "    img1_ycrcb = cv2.cvtColor(img1, cv2.COLOR_BGR2YCrCb)\n",
    "    img2_ycrcb = cv2.cvtColor(img2, cv2.COLOR_BGR2YCrCb)\n",
    "\n",
    "    # Initialize an array to hold the comparison results\n",
    "    comparison_results = []\n",
    "\n",
    "    # Channel names for visualization\n",
    "    channels = ['Y', 'Cr', 'Cb']\n",
    "\n",
    "    # Plotting setup\n",
    "    #fig, axes = plt.subplots(nrows=3, ncols=2, figsize=(12, 8))\n",
    "    #fig.suptitle('Histogram Comparison of YCrCb Channels')\n",
    "\n",
    "    # Compare each channel (Y, Cr, Cb)\n",
    "    for i in range(3):\n",
    "        hist_img1 = cv2.calcHist([img1_ycrcb], [i], None, [256], [0, 256])\n",
    "        hist_img2 = cv2.calcHist([img2_ycrcb], [i], None, [256], [0, 256])\n",
    "\n",
    "        cv2.normalize(hist_img1, hist_img1, alpha=0, beta=1, norm_type=cv2.NORM_MINMAX)\n",
    "        cv2.normalize(hist_img2, hist_img2, alpha=0, beta=1, norm_type=cv2.NORM_MINMAX)\n",
    "\n",
    "        # Plot histograms\n",
    "        #axes[i, 0].plot(hist_img1, color='blue')\n",
    "        #axes[i, 0].set_title(f'Image 1 - {channels[i]} Channel')\n",
    "        #axes[i, 1].plot(hist_img2, color='red')\n",
    "        #axes[i, 1].set_title(f'Image 2 - {channels[i]} Channel')\n",
    "\n",
    "        # Compare using Bhattacharyya distance\n",
    "        comparison_results.append(cv2.compareHist(hist_img1, hist_img2, cv2.HISTCMP_BHATTACHARYYA))\n",
    "\n",
    "    #plt.tight_layout(rect=[0, 0.03, 1, 0.95])\n",
    "    #plt.show()\n",
    "\n",
    "    # Aggregate results (mean for simplicity)\n",
    "    overall_comparison = np.mean(comparison_results)\n",
    "    return overall_comparison"
   ]
  },
  {
   "cell_type": "code",
   "execution_count": 3,
   "id": "a4d9d6e9",
   "metadata": {},
   "outputs": [
    {
     "name": "stdout",
     "output_type": "stream",
     "text": [
      "testing on\n"
     ]
    }
   ],
   "source": [
    "patch_paths = [r\"D:\\IchMorningstar\\Research\\MLLsecurity\\gtsrb-german-traffic-sign\\patch\\patch1.png\",\n",
    "                r\"D:\\IchMorningstar\\Research\\MLLsecurity\\gtsrb-german-traffic-sign\\patch\\patch2.png\",\n",
    "                r\"D:\\IchMorningstar\\Research\\MLLsecurity\\gtsrb-german-traffic-sign\\patch\\patch3.png\",\n",
    "                r\"D:\\IchMorningstar\\Research\\MLLsecurity\\gtsrb-german-traffic-sign\\patch\\patch4.png\",\n",
    "                r\"D:\\IchMorningstar\\Research\\MLLsecurity\\gtsrb-german-traffic-sign\\patch\\patch5.png\",\n",
    "                r\"D:\\IchMorningstar\\Research\\MLLsecurity\\gtsrb-german-traffic-sign\\patch\\patch6.png\",\n",
    "                r\"D:\\IchMorningstar\\Research\\MLLsecurity\\gtsrb-german-traffic-sign\\patch\\blu.png\",\n",
    "                r\"D:\\IchMorningstar\\Research\\MLLsecurity\\gtsrb-german-traffic-sign\\patch\\red.png\"\n",
    "             ]\n",
    "\n",
    "main_dir = r\"D:\\IchMorningstar\\Research\\MLLsecurity\\gtsrb-german-traffic-sign\\Backdoored_test\\clean\"\n",
    "\n",
    "# Get all image names from the current class directory\n",
    "all_images = [os.path.join(main_dir, f) for f in os.listdir(main_dir) if f.lower().endswith(('.png', '.jpg', '.jpeg'))]\n",
    "\n",
    "if len(all_images) < 400:\n",
    "    print(\"something's wrong\")\n",
    "else:\n",
    "    print(\"testing on\")"
   ]
  },
  {
   "cell_type": "code",
   "execution_count": 3,
   "id": "5ae82cc1",
   "metadata": {},
   "outputs": [
    {
     "name": "stdout",
     "output_type": "stream",
     "text": [
      "patch1.png starts\n",
      "patch1.png is done\n",
      "patch2.png starts\n",
      "patch2.png is done\n",
      "patch3.png starts\n",
      "patch3.png is done\n",
      "patch4.png starts\n",
      "patch4.png is done\n",
      "patch5.png starts\n",
      "patch5.png is done\n",
      "patch6.png starts\n",
      "patch6.png is done\n",
      "blu.png starts\n",
      "blu.png is done\n",
      "red.png starts\n",
      "red.png is done\n"
     ]
    },
    {
     "data": {
      "text/plain": [
       "dict_keys(['patch1.png', 'patch2.png', 'patch3.png', 'patch4.png', 'patch5.png', 'patch6.png', 'blu.png', 'red.png'])"
      ]
     },
     "execution_count": 3,
     "metadata": {},
     "output_type": "execute_result"
    }
   ],
   "source": [
    "all_scores = {}\n",
    "for patch in patch_paths:\n",
    "    patch_path = patch\n",
    "    if patch[-10:].startswith(\"p\"):\n",
    "        patch_name = patch[-10:]\n",
    "    else:\n",
    "        patch_name = patch[-7:]\n",
    "        \n",
    "    print(f\"{patch_name} starts\")\n",
    "    scores = []\n",
    "    for image in all_images:\n",
    "        image_path1 = patch_path\n",
    "        image_path2 = image\n",
    "        comparison_score = compare_images_with_visualization(image_path1, image_path2)\n",
    "        scores.append(comparison_score)\n",
    "    \n",
    "    all_scores[patch_name] = scores\n",
    "    print(f\"{patch_name} is done\")\n",
    "    \n",
    "all_scores.keys()"
   ]
  },
  {
   "cell_type": "code",
   "execution_count": 5,
   "id": "43dc6304",
   "metadata": {},
   "outputs": [
    {
     "name": "stdout",
     "output_type": "stream",
     "text": [
      "max: 0.9843986052556453, min: 0.6699909110560935, mean: 0.8973230574162557\n",
      "max: 0.8300343323367988, min: 0.5248512072996029, mean: 0.6514602834512653\n",
      "max: 0.9851289124693586, min: 0.7064700611451937, mean: 0.905535280597287\n",
      "max: 0.8825677952231411, min: 0.5377270710623062, mean: 0.695146957012022\n",
      "max: 0.9633514813248606, min: 0.6808083823183123, mean: 0.8701090591552305\n",
      "max: 0.8482692252617317, min: 0.5219720617907647, mean: 0.6547098882140213\n",
      "max: 1.0, min: 0.8949848867782078, mean: 0.9700080526015294\n",
      "max: 0.9996928517665277, min: 0.8939900560983417, mean: 0.9682292533207286\n"
     ]
    }
   ],
   "source": [
    "Max = []\n",
    "Min = []\n",
    "Mean = []\n",
    "for i in all_scores.keys():\n",
    "    arr = np.array(all_scores[i])\n",
    "    Max.append(arr.max())\n",
    "    Min.append(arr.min())\n",
    "    Mean.append(arr.mean())\n",
    "    print(f\"max: {arr.max()}, min: {arr.min()}, mean: {arr.mean()}\")"
   ]
  },
  {
   "cell_type": "code",
   "execution_count": 7,
   "id": "c6f55bed",
   "metadata": {},
   "outputs": [
    {
     "data": {
      "text/html": [
       "<div>\n",
       "<style scoped>\n",
       "    .dataframe tbody tr th:only-of-type {\n",
       "        vertical-align: middle;\n",
       "    }\n",
       "\n",
       "    .dataframe tbody tr th {\n",
       "        vertical-align: top;\n",
       "    }\n",
       "\n",
       "    .dataframe thead th {\n",
       "        text-align: right;\n",
       "    }\n",
       "</style>\n",
       "<table border=\"1\" class=\"dataframe\">\n",
       "  <thead>\n",
       "    <tr style=\"text-align: right;\">\n",
       "      <th></th>\n",
       "      <th>max</th>\n",
       "      <th>min</th>\n",
       "      <th>mean</th>\n",
       "    </tr>\n",
       "  </thead>\n",
       "  <tbody>\n",
       "    <tr>\n",
       "      <th>patch1</th>\n",
       "      <td>0.984399</td>\n",
       "      <td>0.669991</td>\n",
       "      <td>0.897323</td>\n",
       "    </tr>\n",
       "    <tr>\n",
       "      <th>patch2</th>\n",
       "      <td>0.830034</td>\n",
       "      <td>0.524851</td>\n",
       "      <td>0.651460</td>\n",
       "    </tr>\n",
       "    <tr>\n",
       "      <th>patch3</th>\n",
       "      <td>0.985129</td>\n",
       "      <td>0.706470</td>\n",
       "      <td>0.905535</td>\n",
       "    </tr>\n",
       "    <tr>\n",
       "      <th>patch4</th>\n",
       "      <td>0.882568</td>\n",
       "      <td>0.537727</td>\n",
       "      <td>0.695147</td>\n",
       "    </tr>\n",
       "    <tr>\n",
       "      <th>patch5</th>\n",
       "      <td>0.963351</td>\n",
       "      <td>0.680808</td>\n",
       "      <td>0.870109</td>\n",
       "    </tr>\n",
       "    <tr>\n",
       "      <th>patch6</th>\n",
       "      <td>0.848269</td>\n",
       "      <td>0.521972</td>\n",
       "      <td>0.654710</td>\n",
       "    </tr>\n",
       "    <tr>\n",
       "      <th>blu</th>\n",
       "      <td>1.000000</td>\n",
       "      <td>0.894985</td>\n",
       "      <td>0.970008</td>\n",
       "    </tr>\n",
       "    <tr>\n",
       "      <th>red</th>\n",
       "      <td>0.999693</td>\n",
       "      <td>0.893990</td>\n",
       "      <td>0.968229</td>\n",
       "    </tr>\n",
       "  </tbody>\n",
       "</table>\n",
       "</div>"
      ],
      "text/plain": [
       "             max       min      mean\n",
       "patch1  0.984399  0.669991  0.897323\n",
       "patch2  0.830034  0.524851  0.651460\n",
       "patch3  0.985129  0.706470  0.905535\n",
       "patch4  0.882568  0.537727  0.695147\n",
       "patch5  0.963351  0.680808  0.870109\n",
       "patch6  0.848269  0.521972  0.654710\n",
       "blu     1.000000  0.894985  0.970008\n",
       "red     0.999693  0.893990  0.968229"
      ]
     },
     "execution_count": 7,
     "metadata": {},
     "output_type": "execute_result"
    }
   ],
   "source": [
    "data = {\"max\": Max, \"min\": Min, \"mean\": Mean}\n",
    "df = pd.DataFrame(data, index = ['patch1','patch2','patch3','patch4','patch5','patch6','blu','red'])\n",
    "df"
   ]
  },
  {
   "cell_type": "code",
   "execution_count": 15,
   "id": "a0a5ecc6",
   "metadata": {},
   "outputs": [
    {
     "data": {
      "image/png": "[encoded data removed]",
      "text/plain": [
       "<Figure size 432x288 with 1 Axes>"
      ]
     },
     "metadata": {
      "needs_background": "light"
     },
     "output_type": "display_data"
    }
   ],
   "source": [
    "plt.plot(df.index, df[\"max\"], label=\"max\")\n",
    "plt.plot(df.index, df[\"min\"], label='min')\n",
    "plt.plot(df.index, df[\"mean\"], label='mean')\n",
    "plt.legend()\n",
    "plt.show()"
   ]
  },
  {
   "cell_type": "markdown",
   "id": "1bf7a976",
   "metadata": {},
   "source": [
    "# SSIM Tests"
   ]
  },
  {
   "cell_type": "code",
   "execution_count": 4,
   "id": "640212dd",
   "metadata": {},
   "outputs": [
    {
     "name": "stdout",
     "output_type": "stream",
     "text": [
      "patch1.png starts\n",
      "patch1.png is done\n",
      "patch2.png starts\n",
      "patch2.png is done\n",
      "patch3.png starts\n",
      "patch3.png is done\n",
      "patch4.png starts\n",
      "patch4.png is done\n",
      "patch5.png starts\n",
      "patch5.png is done\n",
      "patch6.png starts\n",
      "patch6.png is done\n",
      "blu.png starts\n",
      "blu.png is done\n",
      "red.png starts\n",
      "red.png is done\n"
     ]
    },
    {
     "data": {
      "text/plain": [
       "dict_keys(['patch1.png', 'patch2.png', 'patch3.png', 'patch4.png', 'patch5.png', 'patch6.png', 'blu.png', 'red.png'])"
      ]
     },
     "execution_count": 4,
     "metadata": {},
     "output_type": "execute_result"
    }
   ],
   "source": [
    "all_scores = {}\n",
    "def crop_patch(image, top_left, patch_size):\n",
    "    # Ensure that we do not go beyond the image boundaries\n",
    "    if top_left[0] + patch_size[0] > image.shape[1] or top_left[1] + patch_size[1] > image.shape[0]:\n",
    "        return None\n",
    "    return image[top_left[1]:top_left[1] + patch_size[1], top_left[0]:top_left[0] + patch_size[0]]\n",
    "\n",
    "for patch in patch_paths:\n",
    "    patch_path = patch\n",
    "    if patch[-10:].startswith(\"p\"):\n",
    "        patch_name = patch[-10:]\n",
    "    else:\n",
    "        patch_name = patch[-7:]\n",
    "        \n",
    "    print(f\"{patch_name} starts\")\n",
    "    image_ind = []\n",
    "    for image in all_images:\n",
    "        image1_bgr = cv2.imread(patch_path)\n",
    "        image2_bgr = cv2.imread(image)\n",
    "        image1_bgr = cv2.resize(image1_bgr, (26, 26))\n",
    "        image2_bgr = cv2.resize(image2_bgr, (256, 256))\n",
    "\n",
    "        # Define the size of the filter\n",
    "        filter_size = (26, 26)\n",
    "\n",
    "        # Define the step size for sliding the window\n",
    "        step = 10  # Adjust the step size as needed\n",
    "\n",
    "        # Create a copy of the second image for visualization\n",
    "        visual_image = image2_bgr.copy()\n",
    "        index_lst = []\n",
    "        # Slide the window over the image\n",
    "        for y in range(0, image2_bgr.shape[0] - filter_size[1], step):\n",
    "            for x in range(0, image2_bgr.shape[1] - filter_size[0], step):\n",
    "                patch_2 = crop_patch(image2_bgr, (x, y), filter_size)\n",
    "\n",
    "                if patch_2 is not None:\n",
    "                    ssim_index = ssim(image1_bgr, patch_2, full=False, multichannel=True, win_size=3)\n",
    "                    index_lst.append(ssim_index)\n",
    "        \n",
    "        image_ind.append(index_lst)\n",
    "    \n",
    "    all_scores[patch_name] = np.array(image_ind)\n",
    "    print(f\"{patch_name} is done\")\n",
    "    \n",
    "all_scores.keys()"
   ]
  },
  {
   "cell_type": "code",
   "execution_count": 5,
   "id": "b28dc3a4",
   "metadata": {},
   "outputs": [
    {
     "name": "stdout",
     "output_type": "stream",
     "text": [
      "patch1.png:\n",
      "max: 0.19089809285243028, min: -0.16557109661517416, mean: -0.0002911228357433384\n",
      "patch2.png:\n",
      "max: 0.20706641626231093, min: -0.20740366398595755, mean: 0.0061092570033115055\n",
      "patch3.png:\n",
      "max: 0.09801215664882462, min: -0.10627585685377969, mean: -0.004558009860803899\n",
      "patch4.png:\n",
      "max: 0.13072498856166634, min: -0.12428890655091898, mean: 0.00988131421627743\n",
      "patch5.png:\n",
      "max: 0.18731344570073982, min: -0.18600734943640168, mean: -0.006520663711370062\n",
      "patch6.png:\n",
      "max: 0.2183337907515553, min: -0.19522879377330637, mean: 0.008126960297680126\n",
      "blu.png:\n",
      "max: 0.9808062348637954, min: -0.9352930203904146, mean: -0.018326573095594705\n",
      "red.png:\n",
      "max: 0.9264205753810535, min: -0.7626494931896324, mean: 0.04571343350019394\n"
     ]
    }
   ],
   "source": [
    "Max = []\n",
    "Min = []\n",
    "Mean = []\n",
    "for i in all_scores.keys():\n",
    "    arr = np.array(all_scores[i])\n",
    "    Max.append(arr.max())\n",
    "    Min.append(arr.min())\n",
    "    Mean.append(arr.mean())\n",
    "    print(f\"{i}:\\nmax: {arr.max()}, min: {arr.min()}, mean: {arr.mean()}\")"
   ]
  },
  {
   "cell_type": "code",
   "execution_count": 6,
   "id": "58f13ecc",
   "metadata": {},
   "outputs": [
    {
     "data": {
      "text/html": [
       "<div>\n",
       "<style scoped>\n",
       "    .dataframe tbody tr th:only-of-type {\n",
       "        vertical-align: middle;\n",
       "    }\n",
       "\n",
       "    .dataframe tbody tr th {\n",
       "        vertical-align: top;\n",
       "    }\n",
       "\n",
       "    .dataframe thead th {\n",
       "        text-align: right;\n",
       "    }\n",
       "</style>\n",
       "<table border=\"1\" class=\"dataframe\">\n",
       "  <thead>\n",
       "    <tr style=\"text-align: right;\">\n",
       "      <th></th>\n",
       "      <th>max</th>\n",
       "      <th>min</th>\n",
       "      <th>mean</th>\n",
       "    </tr>\n",
       "  </thead>\n",
       "  <tbody>\n",
       "    <tr>\n",
       "      <th>patch1</th>\n",
       "      <td>0.190898</td>\n",
       "      <td>-0.165571</td>\n",
       "      <td>-0.000291</td>\n",
       "    </tr>\n",
       "    <tr>\n",
       "      <th>patch2</th>\n",
       "      <td>0.207066</td>\n",
       "      <td>-0.207404</td>\n",
       "      <td>0.006109</td>\n",
       "    </tr>\n",
       "    <tr>\n",
       "      <th>patch3</th>\n",
       "      <td>0.098012</td>\n",
       "      <td>-0.106276</td>\n",
       "      <td>-0.004558</td>\n",
       "    </tr>\n",
       "    <tr>\n",
       "      <th>patch4</th>\n",
       "      <td>0.130725</td>\n",
       "      <td>-0.124289</td>\n",
       "      <td>0.009881</td>\n",
       "    </tr>\n",
       "    <tr>\n",
       "      <th>patch5</th>\n",
       "      <td>0.187313</td>\n",
       "      <td>-0.186007</td>\n",
       "      <td>-0.006521</td>\n",
       "    </tr>\n",
       "    <tr>\n",
       "      <th>patch6</th>\n",
       "      <td>0.218334</td>\n",
       "      <td>-0.195229</td>\n",
       "      <td>0.008127</td>\n",
       "    </tr>\n",
       "    <tr>\n",
       "      <th>blu</th>\n",
       "      <td>0.980806</td>\n",
       "      <td>-0.935293</td>\n",
       "      <td>-0.018327</td>\n",
       "    </tr>\n",
       "    <tr>\n",
       "      <th>red</th>\n",
       "      <td>0.926421</td>\n",
       "      <td>-0.762649</td>\n",
       "      <td>0.045713</td>\n",
       "    </tr>\n",
       "  </tbody>\n",
       "</table>\n",
       "</div>"
      ],
      "text/plain": [
       "             max       min      mean\n",
       "patch1  0.190898 -0.165571 -0.000291\n",
       "patch2  0.207066 -0.207404  0.006109\n",
       "patch3  0.098012 -0.106276 -0.004558\n",
       "patch4  0.130725 -0.124289  0.009881\n",
       "patch5  0.187313 -0.186007 -0.006521\n",
       "patch6  0.218334 -0.195229  0.008127\n",
       "blu     0.980806 -0.935293 -0.018327\n",
       "red     0.926421 -0.762649  0.045713"
      ]
     },
     "execution_count": 6,
     "metadata": {},
     "output_type": "execute_result"
    }
   ],
   "source": [
    "data = {\"max\": Max, \"min\": Min, \"mean\": Mean}\n",
    "df = pd.DataFrame(data, index = ['patch1','patch2','patch3','patch4','patch5','patch6','blu','red'])\n",
    "df"
   ]
  },
  {
   "cell_type": "code",
   "execution_count": 7,
   "id": "ce12d2d6",
   "metadata": {},
   "outputs": [
    {
     "data": {
      "image/png": "[encoded data removed]",
      "text/plain": [
       "<Figure size 432x288 with 1 Axes>"
      ]
     },
     "metadata": {
      "needs_background": "light"
     },
     "output_type": "display_data"
    }
   ],
   "source": [
    "plt.plot(df.index, df[\"max\"], label=\"max\")\n",
    "plt.plot(df.index, df[\"min\"], label='min')\n",
    "plt.plot(df.index, df[\"mean\"], label='mean')\n",
    "plt.legend()\n",
    "plt.show()"
   ]
  },
  {
   "cell_type": "code",
   "execution_count": 11,
   "id": "00df4e97",
   "metadata": {},
   "outputs": [
    {
     "data": {
      "text/plain": [
       "[<matplotlib.lines.Line2D at 0x210c045b650>]"
      ]
     },
     "execution_count": 11,
     "metadata": {},
     "output_type": "execute_result"
    },
    {
     "data": {
      "image/png": "[encoded data removed]",
      "text/plain": [
       "<Figure size 432x288 with 1 Axes>"
      ]
     },
     "metadata": {
      "needs_background": "light"
     },
     "output_type": "display_data"
    }
   ],
   "source": [
    "plt.plot(df.index, df[\"mean\"], label='mean')"
   ]
  },
  {
   "cell_type": "code",
   "execution_count": 8,
   "id": "c7386e94",
   "metadata": {},
   "outputs": [
    {
     "data": {
      "text/html": [
       "<div>\n",
       "<style scoped>\n",
       "    .dataframe tbody tr th:only-of-type {\n",
       "        vertical-align: middle;\n",
       "    }\n",
       "\n",
       "    .dataframe tbody tr th {\n",
       "        vertical-align: top;\n",
       "    }\n",
       "\n",
       "    .dataframe thead th {\n",
       "        text-align: right;\n",
       "    }\n",
       "</style>\n",
       "<table border=\"1\" class=\"dataframe\">\n",
       "  <thead>\n",
       "    <tr style=\"text-align: right;\">\n",
       "      <th></th>\n",
       "      <th>max</th>\n",
       "      <th>min</th>\n",
       "      <th>mean</th>\n",
       "    </tr>\n",
       "  </thead>\n",
       "  <tbody>\n",
       "    <tr>\n",
       "      <th>patch1</th>\n",
       "      <td>0.190898</td>\n",
       "      <td>-0.165571</td>\n",
       "      <td>-0.000291</td>\n",
       "    </tr>\n",
       "    <tr>\n",
       "      <th>patch2</th>\n",
       "      <td>0.207066</td>\n",
       "      <td>-0.207404</td>\n",
       "      <td>0.006109</td>\n",
       "    </tr>\n",
       "    <tr>\n",
       "      <th>patch3</th>\n",
       "      <td>0.098012</td>\n",
       "      <td>-0.106276</td>\n",
       "      <td>-0.004558</td>\n",
       "    </tr>\n",
       "    <tr>\n",
       "      <th>patch4</th>\n",
       "      <td>0.130725</td>\n",
       "      <td>-0.124289</td>\n",
       "      <td>0.009881</td>\n",
       "    </tr>\n",
       "    <tr>\n",
       "      <th>patch5</th>\n",
       "      <td>0.187313</td>\n",
       "      <td>-0.186007</td>\n",
       "      <td>-0.006521</td>\n",
       "    </tr>\n",
       "    <tr>\n",
       "      <th>patch6</th>\n",
       "      <td>0.218334</td>\n",
       "      <td>-0.195229</td>\n",
       "      <td>0.008127</td>\n",
       "    </tr>\n",
       "  </tbody>\n",
       "</table>\n",
       "</div>"
      ],
      "text/plain": [
       "             max       min      mean\n",
       "patch1  0.190898 -0.165571 -0.000291\n",
       "patch2  0.207066 -0.207404  0.006109\n",
       "patch3  0.098012 -0.106276 -0.004558\n",
       "patch4  0.130725 -0.124289  0.009881\n",
       "patch5  0.187313 -0.186007 -0.006521\n",
       "patch6  0.218334 -0.195229  0.008127"
      ]
     },
     "execution_count": 8,
     "metadata": {},
     "output_type": "execute_result"
    }
   ],
   "source": [
    "data_1 = {\"max\": Max[:-2], \"min\": Min[:-2], \"mean\": Mean[:-2]}\n",
    "df_1 = pd.DataFrame(data_1, index = ['patch1','patch2','patch3','patch4','patch5','patch6'])\n",
    "df_1"
   ]
  },
  {
   "cell_type": "code",
   "execution_count": 9,
   "id": "52cab188",
   "metadata": {},
   "outputs": [
    {
     "data": {
      "image/png": "[encoded data removed]",
      "text/plain": [
       "<Figure size 432x288 with 1 Axes>"
      ]
     },
     "metadata": {
      "needs_background": "light"
     },
     "output_type": "display_data"
    }
   ],
   "source": [
    "plt.plot(df_1.index, df_1[\"max\"], label=\"max\")\n",
    "plt.plot(df_1.index, df_1[\"min\"], label='min')\n",
    "plt.plot(df_1.index, df_1[\"mean\"], label='mean')\n",
    "plt.legend()\n",
    "plt.show()"
   ]
  },
  {
   "cell_type": "code",
   "execution_count": 10,
   "id": "957950c8",
   "metadata": {},
   "outputs": [
    {
     "data": {
      "text/plain": [
       "[<matplotlib.lines.Line2D at 0x210bf37f310>]"
      ]
     },
     "execution_count": 10,
     "metadata": {},
     "output_type": "execute_result"
    },
    {
     "data": {
      "image/png": "[encoded data removed]",
      "text/plain": [
       "<Figure size 432x288 with 1 Axes>"
      ]
     },
     "metadata": {
      "needs_background": "light"
     },
     "output_type": "display_data"
    }
   ],
   "source": [
    "plt.plot(df_1.index, df_1[\"mean\"], label='mean')"
   ]
  },
  {
   "cell_type": "code",
   "execution_count": null,
   "id": "92fe36f1",
   "metadata": {},
   "outputs": [],
   "source": []
  }
 ],
 "metadata": {
  "kernelspec": {
   "display_name": "pytorch",
   "language": "python",
   "name": "pytorch"
  },
  "language_info": {
   "codemirror_mode": {
    "name": "ipython",
    "version": 3
   },
   "file_extension": ".py",
   "mimetype": "text/x-python",
   "name": "python",
   "nbconvert_exporter": "python",
   "pygments_lexer": "ipython3",
   "version": "3.11.5"
  }
 },
 "nbformat": 4,
 "nbformat_minor": 5
}
