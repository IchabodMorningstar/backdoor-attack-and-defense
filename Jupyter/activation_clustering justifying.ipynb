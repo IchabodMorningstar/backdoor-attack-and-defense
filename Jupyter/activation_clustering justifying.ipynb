{
 "cells": [
  {
   "cell_type": "code",
   "execution_count": 1,
   "metadata": {},
   "outputs": [],
   "source": [
    "import numpy as np \n",
    "import pandas as pd \n",
    "import os\n",
    "import seaborn as sns\n",
    "import matplotlib.pyplot as plt\n",
    "import random\n",
    "import seaborn as sns\n",
    "from collections import Counter\n",
    "from PIL import Image\n",
    "from skimage import io\n",
    "import cv2 \n",
    "import torch\n",
    "import torch.nn as nn\n",
    "import torch.nn.functional as F\n",
    "from torch.utils.data import DataLoader, random_split, Dataset\n",
    "import torch.optim as optim\n",
    "import torchvision.datasets\n",
    "import torchvision.transforms as T \n",
    "from torchvision.io import read_image\n",
    "from torchvision.datasets import DatasetFolder\n",
    "from torchvision.datasets.folder import default_loader\n",
    "from matplotlib.ticker import MaxNLocator\n",
    "from torchvision.models import alexnet\n",
    "import matplotlib.pyplot as plt\n",
    "import numpy as np\n",
    "from tqdm import tqdm\n",
    "from sklearn.metrics import silhouette_score\n",
    "from sklearn.cluster import KMeans\n",
    "import os\n",
    "import torch, torchvision\n",
    "import shutil"
   ]
  },
  {
   "cell_type": "markdown",
   "metadata": {},
   "source": [
    "## Function to get features/Activation values of the model from last layer before classifer"
   ]
  },
  {
   "cell_type": "code",
   "execution_count": 2,
   "metadata": {
    "scrolled": true
   },
   "outputs": [],
   "source": [
    "normalize=T.Normalize(mean=[0.485, 0.456, 0.406], std=[0.229, 0.224, 0.225])\n",
    "\"\"\"\n",
    "Adapted Activation Clustering as a backdoor input detector.\n",
    "For comparison and reference only.\n",
    "\"\"\"\n",
    "\n",
    "#for alexnet function \n",
    "def get_pre_fc_layer_activations(model, input_tensor, device):\n",
    "    model.eval()\n",
    "    input_tensor = normalize(input_tensor)  # Ensure this normalization matches your preprocessing\n",
    "    with torch.no_grad():\n",
    "        x = input_tensor.to(device)\n",
    "        \n",
    "        # Pass through the feature extractor part of AlexNet\n",
    "        x = model.features(x)  # This replaces the explicit calls to conv, bn, relu, etc.\n",
    "        \n",
    "#         # Apply the avgpool layer\n",
    "        x = model.avgpool(x)\n",
    "        \n",
    "        # Flatten the output for further processing, resulting in shape [N, C]\n",
    "        activations = torch.flatten(x, start_dim=1)\n",
    "        return activations"
   ]
  },
  {
   "cell_type": "markdown",
   "metadata": {},
   "source": [
    "## Classes for the dataset"
   ]
  },
  {
   "cell_type": "code",
   "execution_count": 3,
   "metadata": {
    "scrolled": true
   },
   "outputs": [],
   "source": [
    "class GTSRBBackdooredDataset(Dataset):\n",
    "    def __init__(self, directory_path, transform=None, num_images_to_test=None):\n",
    "        self.directory_path = directory_path\n",
    "        self.transform = transform\n",
    "        self.all_filenames = os.listdir(directory_path)\n",
    "\n",
    "        if num_images_to_test:\n",
    "            self.all_filenames = self.all_filenames[:num_images_to_test]\n",
    "\n",
    "        self.labels = [14] * len(self.all_filenames)  # Example fixed label for all images\n",
    "\n",
    "    def __len__(self):\n",
    "        return len(self.all_filenames)\n",
    "\n",
    "    def __getitem__(self, idx):\n",
    "        image_path = os.path.join(self.directory_path, self.all_filenames[idx])\n",
    "        image = Image.open(image_path)\n",
    "        image = image.resize([224, 224])  # Resize if necessary\n",
    "\n",
    "        if self.transform:\n",
    "            image = self.transform(image)\n",
    "\n",
    "        label = self.labels[idx]\n",
    "        return image, label\n",
    "    \n",
    "class GTSRBCleanDataset(Dataset):\n",
    "    def __init__(self, directory_path, csv_path, transform=None, num_images_to_test=None):\n",
    "        self.directory_path = directory_path\n",
    "        self.transform = transform\n",
    "\n",
    "        # Load ground truth from CSV\n",
    "        data = pd.read_csv(csv_path, delimiter=',')\n",
    "        self.filenames = data['Path'].apply(os.path.basename).tolist()\n",
    "        self.labels = data['ClassId'].tolist()\n",
    "        self.truth_dict = dict(zip(self.filenames, self.labels))\n",
    "\n",
    "        # Filter filenames if num_images_to_test is set\n",
    "        if num_images_to_test:\n",
    "            self.filenames = self.filenames[:num_images_to_test]\n",
    "            self.labels = self.labels[:num_images_to_test]\n",
    "\n",
    "    def __len__(self):\n",
    "        return len(self.filenames)\n",
    "\n",
    "    def __getitem__(self, idx):\n",
    "        image_name = self.filenames[idx]\n",
    "        image_path = os.path.join(self.directory_path, image_name)\n",
    "        image = Image.open(image_path)\n",
    "        image = image.resize([224, 224])  # Resize if necessary\n",
    "\n",
    "        if self.transform:\n",
    "            image = self.transform(image)\n",
    "\n",
    "        label = self.truth_dict[image_name]\n",
    "        return image, label\n",
    "    \n",
    "    \n",
    "class TSignsDataset(Dataset):\n",
    "    def __init__(self, root_dir, transform=None, exclude_indices=None):\n",
    "        self.root_dir = root_dir\n",
    "        self.transform = transform\n",
    "        self.exclude_indices = set(exclude_indices) if exclude_indices is not None else set()\n",
    "        self.data = []\n",
    "        self.class_counts = Counter()\n",
    "\n",
    "        temp_data = []\n",
    "\n",
    "        for class_id in sorted(os.listdir(root_dir), key=lambda x: int(x)):\n",
    "            class_dir = os.path.join(root_dir, class_id)\n",
    "            if os.path.isdir(class_dir):\n",
    "                for filename in sorted(os.listdir(class_dir)):\n",
    "                    if filename.endswith(\".jpg\") or filename.endswith(\".png\"):\n",
    "                        temp_data.append({\n",
    "                            'path': os.path.join(class_dir, filename),\n",
    "                            'class_id': int(class_id)\n",
    "                        })\n",
    "\n",
    "        # # Debugging prints\n",
    "        # print(f\"Total data before exclusion: {len(temp_data)}\")\n",
    "        # print(f\"Excluding indices: {self.exclude_indices}\")\n",
    "\n",
    "        self.data = [data for i, data in enumerate(temp_data) if i not in self.exclude_indices]\n",
    "\n",
    "        # Recalculate class counts after exclusion\n",
    "        for item in self.data:\n",
    "            self.class_counts[item['class_id']] += 1\n",
    "\n",
    "        # More debugging prints\n",
    "        # print(f\"Total data after exclusion: {len(self.data)}\")\n",
    "    \n",
    "    def __len__(self):\n",
    "        return len(self.data)\n",
    "    \n",
    "    def __getitem__(self, index):\n",
    "        image_path = self.data[index]['path']\n",
    "        image = Image.open(image_path)\n",
    "        y_class = torch.tensor(self.data[index]['class_id'])\n",
    "        \n",
    "        if self.transform:\n",
    "            image = self.transform(image)\n",
    "\n",
    "        return image, y_class,index\n",
    "    \n",
    "    def get_image_path_by_index(self, index):\n",
    "        \"\"\"Get the file path for the image at the specified index.\"\"\"\n",
    "        return self.data[index]['path']\n",
    "\n",
    "    def get_class_label_by_index(self, index):\n",
    "        \"\"\"Retrieve the class label for a given dataset index.\"\"\"\n",
    "        return self.data[index]['class_id']\n",
    "\n",
    "\n",
    "\n"
   ]
  },
  {
   "cell_type": "markdown",
   "metadata": {},
   "source": [
    "## Helping functions for visualization and verifications"
   ]
  },
  {
   "cell_type": "code",
   "execution_count": 4,
   "metadata": {
    "scrolled": true
   },
   "outputs": [],
   "source": [
    "import matplotlib.pyplot as plt\n",
    "\n",
    "def visualize_images(images, cols=5):\n",
    "    \"\"\"Visualize a list of images.\"\"\"\n",
    "    n_images = len(images)\n",
    "    rows = n_images // cols + int(n_images % cols != 0)\n",
    "    fig = plt.figure(figsize=(20, 4 * rows))\n",
    "    for i, image in enumerate(images):\n",
    "        ax = fig.add_subplot(rows, cols, i + 1)\n",
    "        ax.imshow(image.permute(1, 2, 0))  # Convert from PyTorch format to matplotlib format\n",
    "        ax.axis('off')\n",
    "    plt.show()\n",
    "\n",
    "\n",
    "def collect_images_by_class(data_loader, class_id, max_images=10):\n",
    "    collected_images = []\n",
    "    for images, labels in data_loader:\n",
    "        for image, label in zip(images, labels):\n",
    "            if label.item() == class_id and len(collected_images) < max_images:\n",
    "                collected_images.append(image)\n",
    "    return collected_images\n",
    "\n",
    "def count_images_of_specific_class(dataloader, class_id):\n",
    "    total_images = 0\n",
    "    for _, labels,_ in dataloader:\n",
    "        # Count how many times class_id appears in labels\n",
    "        total_images += torch.sum(labels == class_id).item()\n",
    "    return total_images\n",
    "\n",
    "\n",
    "def copy_non_suspicious_images(dataset, suspicious_indices, new_root_dir):\n",
    "    if not os.path.exists(new_root_dir):\n",
    "        os.makedirs(new_root_dir)\n",
    "    \n",
    "    for index in range(len(dataset)):\n",
    "        if index not in suspicious_indices:\n",
    "            continue  # Skip copying this suspicious image\n",
    "        \n",
    "        image_path = dataset.get_image_path_by_index(index)\n",
    "        # Construct the new path under new_root_dir maintaining the original structure\n",
    "        new_path = image_path.replace(dataset.root_dir, new_root_dir)\n",
    "        # Create directories if they do not exist\n",
    "        os.makedirs(os.path.dirname(new_path), exist_ok=True)\n",
    "        # Copy the file\n",
    "        shutil.copy2(image_path, new_path)\n",
    "        print(f\"Copied {image_path} to {new_path}\")\n",
    "        \n",
    "def copy_suspicious_images(dataset, suspicious_indices, new_root_dir):\n",
    "    if not os.path.exists(new_root_dir):\n",
    "        os.makedirs(new_root_dir)\n",
    "    \n",
    "    for index in suspicious_indices:\n",
    "        image_path = dataset.get_image_path_by_index(index)\n",
    "        # Construct the new path under new_root_dir maintaining the original structure\n",
    "        new_path = image_path.replace(dataset.root_dir, new_root_dir)\n",
    "        # Create directories if they do not exist\n",
    "        os.makedirs(os.path.dirname(new_path), exist_ok=True)\n",
    "        # Copy the file\n",
    "        shutil.copy2(image_path, new_path)\n",
    "        print(f\"Copied {image_path} to {new_path}\")\n",
    "\n",
    "def verify_suspicious_indices(dataset, suspicious_indices, expected_class):\n",
    "    verified_indices = []\n",
    "#     print(\"starting verification process\")\n",
    "    for idx in suspicious_indices:\n",
    "        actual_class = dataset.get_class_label_by_index(idx)\n",
    "#         print(f\"image id:{idx}\")\n",
    "        if actual_class == expected_class:\n",
    "            verified_indices.append(idx)\n",
    "        else:\n",
    "            print(f\"Index {idx} does not belong to expected class {expected_class}, found in class {actual_class}.\")\n",
    "#     print(\"done with verification process\")\n",
    "    return verified_indices\n",
    "\n",
    "\n",
    "def visualize_clusters(projected_feats, labels, largest_cluster_center, title='KMeans Clustering'):\n",
    "    # Assuming projected_feats is 2D or has been reduced to 2 principal components\n",
    "    plt.figure(figsize=(8, 6))\n",
    "\n",
    "    # Step 2: Identify the Largest Cluster\n",
    "    cluster_sizes = np.bincount(labels)\n",
    "    #clean label as the largest cluster\n",
    "    clean_label = np.argmax(cluster_sizes)\n",
    "\n",
    "    poisonous_label = 1 - clean_label  # The other label is considered 'poisonous'\n",
    "    \n",
    "    # Plot each cluster using different colors and labels\n",
    "    plt.scatter(projected_feats[labels == clean_label, 0], projected_feats[labels == clean_label, 1], \n",
    "                c='blue', label='Clean', marker='o')\n",
    "    plt.scatter(projected_feats[labels == poisonous_label, 0], projected_feats[labels == poisonous_label, 1], \n",
    "                c='red', label='Poisonous', marker='x')\n",
    "    \n",
    "    # Plot the center of the largest cluster\n",
    "    plt.scatter(largest_cluster_center[0], largest_cluster_center[1], \n",
    "                c='gold', label='Largest Cluster Center', marker='*', s=200)  # s is the size of the marker\n",
    "    \n",
    "    plt.title(title)\n",
    "    plt.xlabel('Principal Component 1')\n",
    "    plt.ylabel('Principal Component 2')\n",
    "    plt.legend()  # Display the legend to differentiate clean, poisonous, and the center\n",
    "    plt.show()\n",
    "\n",
    "# def visualize_clusters(projected_feats, kmeans_labels, n_clusters, title='Cluster Visualization'):\n",
    "#     \"\"\"\n",
    "#     Visualizes n clusters using matplotlib.\n",
    "\n",
    "#     Parameters:\n",
    "#     - projected_feats: 2D numpy array with the coordinates of the points after dimensionality reduction.\n",
    "#     - kmeans_labels: 1D numpy array with the cluster labels for each point.\n",
    "#     - n_clusters: Number of clusters to visualize.\n",
    "#     - title: Title of the plot.\n",
    "#     \"\"\"\n",
    "#     plt.figure(figsize=(8, 6))\n",
    "#     colors = plt.cm.get_cmap('tab20', n_clusters)\n",
    "\n",
    "#     for i in range(n_clusters):\n",
    "#         plt.scatter(projected_feats[kmeans_labels == i, 0], projected_feats[kmeans_labels == i, 1], \n",
    "#                     color=colors(i), label=f'Cluster {i}')\n",
    "    \n",
    "#     plt.title(title)\n",
    "#     plt.xlabel('Feature 1')\n",
    "#     plt.ylabel('Feature 2')\n",
    "#     plt.legend()\n",
    "#     plt.show()\n",
    "\n",
    "\n",
    "\n",
    "\n"
   ]
  },
  {
   "cell_type": "markdown",
   "metadata": {},
   "source": [
    "## Activation Clustering Cleansing"
   ]
  },
  {
   "cell_type": "code",
   "execution_count": 5,
   "metadata": {
    "scrolled": true
   },
   "outputs": [],
   "source": [
    "#getting features/activations from last layer based on image inputs\n",
    "def get_features_training(data_loader, model, num_classes, device):\n",
    "    model.eval()  # Set the model to evaluation mode\n",
    "    class_indices = [[] for _ in range(num_classes)]  # Initialize class indices\n",
    "    feats = []  # Initialize the list for storing features\n",
    "    local_to_global_index_map = {} \n",
    "\n",
    "    with torch.no_grad():  # Disable gradient computation\n",
    "        sid = 0\n",
    "        for i, (data, target,indices) in enumerate(tqdm(data_loader)):\n",
    "            data, target = data.to(device), target.to(device)  # Move data to the specified device\n",
    "            \n",
    "            extracted_feats = get_pre_fc_layer_activations(model, data, device)  # Extract features\n",
    "            this_batch_size = len(target)\n",
    "            # print(\"batch: \",this_batch_size)\n",
    "            for bid in range(this_batch_size):\n",
    "                feats.append(extracted_feats[bid])  # Append extracted features\n",
    "                b_target = target[bid].item()  # Get the class/target of the sample\n",
    "\n",
    "                # Append the global dataset index of the sample\n",
    "                global_index = indices[bid].item()\n",
    "                local_to_global_index_map[sid+bid] = global_index \n",
    "\n",
    "            \n",
    "                class_indices[b_target].append(sid + bid)  # Append the index of the sample\n",
    "                # if b_target==14:\n",
    "                #     print(f\"Class: {b_target} || Map Index {sid + bid} ||Dataset Index: {indices[bid].item()} ||path: {data_loader.dataset.get_image_path_by_index(indices[bid].item())}\")\n",
    "            sid += this_batch_size  # Update the sample ID offset\n",
    "\n",
    "    return feats, class_indices,local_to_global_index_map\n",
    "\n",
    "\n",
    "#this is the original version of this function from their paper \n",
    "def cleanser(inspection_split_loader, model, num_classes, device,verifier, clusters=2):\n",
    "    \"\"\"\n",
    "        adapted from : https://github.com/hsouri/Sleeper-Agent/blob/master/forest/filtering_defenses.py\n",
    "    \"\"\"\n",
    "\n",
    "\n",
    "    suspicious_indices = []\n",
    "\n",
    "    feats, class_indices,local_to_global_index_map = get_features_training(inspection_split_loader, model, num_classes,device)\n",
    "\n",
    "    myscore=[]\n",
    "    max_score=0\n",
    "    for target_class in range(num_classes):\n",
    "\n",
    "        # print('class - %d' % target_class)\n",
    "\n",
    "        if len(class_indices[target_class]) <= 1: continue # no need to perform clustering...\n",
    "\n",
    "        temp_feats = [feats[temp_idx].unsqueeze(dim=0) for temp_idx in class_indices[target_class]]\n",
    "        temp_feats = torch.cat( temp_feats , dim=0)\n",
    "        temp_feats = temp_feats - temp_feats.mean(dim=0)\n",
    "\n",
    "        _, _, V = torch.svd(temp_feats, compute_uv=True, some=False)\n",
    "\n",
    "        axes = V[:, :10]\n",
    "        projected_feats = torch.matmul(temp_feats, axes)\n",
    "        projected_feats = projected_feats.cpu().numpy()\n",
    "\n",
    "        # print(\"Shape of projected features: \",projected_feats.shape)\n",
    "\n",
    "        # print('start k-means')\n",
    "        kmeans = KMeans(n_clusters=clusters,init='k-means++').fit(projected_feats)\n",
    "        # print('end k-means')\n",
    "\n",
    "        # by default, take the large cluster as the clean cluster (since all inference-time backdoor inputs are in the target class)\n",
    "        if kmeans.labels_.sum() >= len(kmeans.labels_) / 2.:\n",
    "            clean_label = 1\n",
    "        else:\n",
    "            clean_label = 0\n",
    " \n",
    "        largest_cluster_center = kmeans.cluster_centers_[clean_label]\n",
    "        # print(\"clean label is: \",clean_label)\n",
    "\n",
    "        outliers_local_indices = []\n",
    "        for (bool, idx) in zip((kmeans.labels_ != clean_label).tolist(), list(range(len(kmeans.labels_)))):\n",
    "            if bool:\n",
    "                outliers_local_indices.append(class_indices[target_class][idx])\n",
    "        \n",
    "          # Map local class-specific indices to global indices in the dataset\n",
    "        outliers_global_indices = [local_to_global_index_map[local_idx] for local_idx in outliers_local_indices]\n",
    "\n",
    "        score = silhouette_score(projected_feats, kmeans.labels_)\n",
    "        # print('[class-%d] silhouette_score = %f || ratio of %f ' % (target_class, score,len(outliers_global_indices)/len(kmeans.labels_) ))\n",
    "        # if score > threshold:# and len(outliers) < len(kmeans.labels_) * 0.35:\n",
    "        myscore.append(score)\n",
    "\n",
    "         # if one of the two clusters is abnormally small, then we have suspicious indices \n",
    "        # if len(outliers_global_indices) < len(kmeans.labels_) * 0.40:\n",
    "        #     #only record the score if we have highest silhoutte score\n",
    "        #     if max_score<score: \n",
    "        #         visualize_clusters(projected_feats, kmeans.labels_,largest_cluster_center, title=f'Class {target_class} Clustering')\n",
    "\n",
    "        #         suspicious_indices = outliers_global_indices.copy()\n",
    "        #         max_score=score  \n",
    "        if score>0.3: \n",
    "            # visualize_clusters(projected_feats, kmeans.labels_,largest_cluster_center, title=f'Class {target_class} Clustering')\n",
    "\n",
    "            suspicious_indices = outliers_global_indices.copy()\n",
    "            # max_score=score \n",
    "    most_suspicious_class=np.array(myscore).argmax()\n",
    "    print(\"The poisoned class is: \",most_suspicious_class)\n",
    "    return most_suspicious_class,suspicious_indices\n",
    "\n"
   ]
  },
  {
   "cell_type": "code",
   "execution_count": 6,
   "metadata": {},
   "outputs": [],
   "source": [
    "#getting features/activations from last layer based on image inputs\n",
    "def get_features_training(data_loader, model, num_classes, device):\n",
    "    model.eval()  # Set the model to evaluation mode\n",
    "    class_indices = [[] for _ in range(num_classes)]  # Initialize class indices\n",
    "    feats = []  # Initialize the list for storing features\n",
    "    local_to_global_index_map = {} \n",
    "\n",
    "    with torch.no_grad():  # Disable gradient computation\n",
    "        sid = 0\n",
    "        for i, (data, target,indices) in enumerate(tqdm(data_loader)):\n",
    "            data, target = data.to(device), target.to(device)  # Move data to the specified device\n",
    "            \n",
    "            extracted_feats = get_pre_fc_layer_activations(model, data, device)  # Extract features\n",
    "            this_batch_size = len(target)\n",
    "            # print(\"batch: \",this_batch_size)\n",
    "            for bid in range(this_batch_size):\n",
    "                feats.append(extracted_feats[bid])  # Append extracted features\n",
    "                b_target = target[bid].item()  # Get the class/target of the sample\n",
    "\n",
    "                # Append the global dataset index of the sample\n",
    "                global_index = indices[bid].item()\n",
    "                local_to_global_index_map[sid+bid] = global_index \n",
    "\n",
    "            \n",
    "                class_indices[b_target].append(sid + bid)  # Append the index of the sample\n",
    "                # if b_target==14:\n",
    "                #     print(f\"Class: {b_target} || Map Index {sid + bid} ||Dataset Index: {indices[bid].item()} ||path: {data_loader.dataset.get_image_path_by_index(indices[bid].item())}\")\n",
    "            sid += this_batch_size  # Update the sample ID offset\n",
    "\n",
    "    return feats, class_indices,local_to_global_index_map\n",
    "\n",
    "\n",
    "#this is the original version of this function from their paper \n",
    "def cleanser(inspection_split_loader, model, num_classes, device,verifier, clusters=2):\n",
    "    \"\"\"\n",
    "        adapted from : https://github.com/hsouri/Sleeper-Agent/blob/master/forest/filtering_defenses.py\n",
    "    \"\"\"\n",
    "\n",
    "\n",
    "    suspicious_indices = []\n",
    "\n",
    "    feats, class_indices,local_to_global_index_map = get_features_training(inspection_split_loader, model, num_classes,device)\n",
    "\n",
    "    myscore=[]\n",
    "    max_score=0\n",
    "    for target_class in range(num_classes):\n",
    "\n",
    "        # print('class - %d' % target_class)\n",
    "\n",
    "        if len(class_indices[target_class]) <= 1: continue # no need to perform clustering...\n",
    "\n",
    "        temp_feats = [feats[temp_idx].unsqueeze(dim=0) for temp_idx in class_indices[target_class]]\n",
    "        temp_feats = torch.cat( temp_feats , dim=0)\n",
    "        temp_feats = temp_feats - temp_feats.mean(dim=0)\n",
    "\n",
    "        _, _, V = torch.svd(temp_feats, compute_uv=True, some=False)\n",
    "\n",
    "        axes = V[:, :10]\n",
    "        projected_feats = torch.matmul(temp_feats, axes)\n",
    "        projected_feats = projected_feats.cpu().numpy()\n",
    "\n",
    "        # print(\"Shape of projected features: \",projected_feats.shape)\n",
    "\n",
    "        # print('start k-means')\n",
    "        kmeans = KMeans(n_clusters=clusters,init='k-means++').fit(projected_feats)\n",
    "        # print('end k-means')\n",
    "\n",
    "        # by default, take the large cluster as the clean cluster (since all inference-time backdoor inputs are in the target class)\n",
    "        if kmeans.labels_.sum() >= len(kmeans.labels_) / 2.:\n",
    "            clean_label = 1\n",
    "        else:\n",
    "            clean_label = 0\n",
    " \n",
    "        largest_cluster_center = kmeans.cluster_centers_[clean_label]\n",
    "        # print(\"clean label is: \",clean_label)\n",
    "\n",
    "        outliers_local_indices = []\n",
    "        for (bool, idx) in zip((kmeans.labels_ != clean_label).tolist(), list(range(len(kmeans.labels_)))):\n",
    "            if bool:\n",
    "                outliers_local_indices.append(class_indices[target_class][idx])\n",
    "        \n",
    "          # Map local class-specific indices to global indices in the dataset\n",
    "        outliers_global_indices = [local_to_global_index_map[local_idx] for local_idx in outliers_local_indices]\n",
    "\n",
    "        score = silhouette_score(projected_feats, kmeans.labels_)\n",
    "        # print('[class-%d] silhouette_score = %f || ratio of %f ' % (target_class, score,len(outliers_global_indices)/len(kmeans.labels_) ))\n",
    "        # if score > threshold:# and len(outliers) < len(kmeans.labels_) * 0.35:\n",
    "        myscore.append(score)\n",
    "\n",
    "         # if one of the two clusters is abnormally small, then we have suspicious indices \n",
    "        # if len(outliers_global_indices) < len(kmeans.labels_) * 0.40:\n",
    "        #     #only record the score if we have highest silhoutte score\n",
    "        #     if max_score<score: \n",
    "        #         visualize_clusters(projected_feats, kmeans.labels_,largest_cluster_center, title=f'Class {target_class} Clustering')\n",
    "\n",
    "        #         suspicious_indices = outliers_global_indices.copy()\n",
    "        #         max_score=score  \n",
    "        if score>0.3: \n",
    "            # visualize_clusters(projected_feats, kmeans.labels_,largest_cluster_center, title=f'Class {target_class} Clustering')\n",
    "\n",
    "            suspicious_indices = outliers_global_indices.copy()\n",
    "            # max_score=score \n",
    "    # most_suspicious_class=np.array(myscore).argmax()\n",
    "    # meanv = np.array(myscore).mean()\n",
    "    # myscore.pop(most_suspicious_class)\n",
    "    # second_most_suspicious_class = np.array(myscore).argmax()\n",
    "            \n",
    "    most_suspicious_class=np.array(myscore).argmax()\n",
    "    meanv = np.array(myscore).mean()\n",
    "    larg = myscore.pop(most_suspicious_class)\n",
    "    second_most_suspicious_class = np.array(myscore).argmax()\n",
    "\n",
    "    # print(\"The poisoned class is: \", most_suspicious_class, larg, second_most_suspicious_class, myscore[second_most_suspicious_class], meanv)\n",
    "    # return most_suspicious_class, (larg - myscore[second_most_suspicious_class])/meanv, suspicious_indices\n",
    "    return most_suspicious_class, larg - myscore[second_most_suspicious_class], suspicious_indices\n",
    "\n"
   ]
  },
  {
   "cell_type": "markdown",
   "metadata": {},
   "source": [
    "## Plotting accuracies"
   ]
  },
  {
   "cell_type": "code",
   "execution_count": 7,
   "metadata": {
    "scrolled": true
   },
   "outputs": [],
   "source": [
    "def plot_accuracy(train_loss, clean_val_loss,backdoored_val_loss ,train_acc, val_acc,val_backdoored_acc):\n",
    "    # Convert the lists to numpy arrays for indexing\n",
    "    train_loss = np.array([tl.cpu() if isinstance(tl, torch.Tensor) else tl for tl in train_loss])\n",
    "#     val_loss = np.array([vl.cpu() if isinstance(vl, torch.Tensor) else vl for vl in val_loss])\n",
    "    train_acc = np.array([ta.cpu() if isinstance(ta, torch.Tensor) else ta for ta in train_acc])\n",
    "    val_acc = np.array([va.cpu() if isinstance(va, torch.Tensor) else va for va in val_acc])\n",
    "    val_backdoored_acc = np.array([vb.cpu() if isinstance(vb, torch.Tensor) else vb for vb in val_backdoored_acc])\n",
    "    epochs = len(train_loss) \n",
    "\n",
    "    plt.figure(figsize=(12, 4))\n",
    "\n",
    "    # Plotting Loss\n",
    "    plt.subplot(1, 2, 1)\n",
    "    sns.lineplot(x=range(1, 1+epochs), y=train_loss, label='Training Loss')\n",
    "    sns.lineplot(x=range(1, 1+epochs), y=clean_val_loss, label='Clean Loss')\n",
    "    sns.lineplot(x=range(1, 1+epochs), y=backdoored_val_loss, label='Backdoored Loss')\n",
    "    plt.xlabel('Epochs')\n",
    "    plt.ylabel('Loss')\n",
    "    plt.title('Loss over epochs')\n",
    "    plt.legend()\n",
    "    plt.gca().xaxis.set_major_locator(MaxNLocator(integer=True))\n",
    "    plt.gca().yaxis.set_major_locator(MaxNLocator(integer=True))\n",
    "\n",
    "    # Plotting Accuracy\n",
    "    plt.subplot(1, 2, 2)\n",
    "    sns.lineplot(x=range(1, 1+epochs), y=train_acc, label='Training Accuracy')\n",
    "    sns.lineplot(x=range(1, 1+epochs), y=val_acc, label='Clean Accuracy')\n",
    "    sns.lineplot(x=range(1, 1+epochs), y=val_backdoored_acc, label='Backdoored Accuracy')\n",
    "    plt.xlabel('Epochs')\n",
    "    plt.ylabel('Accuracy')\n",
    "    plt.title('Accuracy over epochs')\n",
    "    plt.legend()\n",
    "    plt.gca().xaxis.set_major_locator(MaxNLocator(integer=True))\n",
    "    plt.gca().yaxis.set_major_locator(MaxNLocator(integer=True))\n",
    "\n",
    "    plt.tight_layout()\n",
    "    plt.show()\n"
   ]
  },
  {
   "cell_type": "markdown",
   "metadata": {},
   "source": [
    "## Predictign functions"
   ]
  },
  {
   "cell_type": "code",
   "execution_count": 8,
   "metadata": {
    "scrolled": true
   },
   "outputs": [],
   "source": [
    "os.environ[\"CUDA_LAUNCH_BLOCKING\"] = \"1\"\n",
    "\n",
    "def load_model(model_path, num_classes=43, device=\"cpu\"):\n",
    "    model = alexnet(weights=None, num_classes=43).to(device)\n",
    "    model.load_state_dict(torch.load(model_path, map_location=device))\n",
    "    model.eval()  # Set to evaluation mode\n",
    "    print(\"Loading Model-----------------Status: Done\")\n",
    "    return model\n",
    "\n",
    "def process_image(image_path):\n",
    "    # Load the image\n",
    "    image = Image.open(image_path)\n",
    "\n",
    "    # Define 5\n",
    "    data_transforms = T.Compose([\n",
    "        T.Resize((224, 224)),\n",
    "        T.ToTensor(),\n",
    "        T.Normalize(mean=[0.485, 0.456, 0.406], std=[0.229, 0.224, 0.225]),\n",
    "    ])\n",
    "\n",
    "    # Apply transformations\n",
    "    image_tensor = data_transforms(image).unsqueeze(0)\n",
    "    return image_tensor, image\n",
    "\n",
    "def predict(image_path, model, device=\"cpu\"):\n",
    "    # No need to reload the model every time you predict. Use the passed model.\n",
    "    # model = load_model(model_path, device=device)\n",
    "    \n",
    "    image_tensor, image = process_image(image_path)  # Assume process_image returns (tensor, image)\n",
    "    image_tensor = image_tensor.to(device)\n",
    "\n",
    "    with torch.no_grad():\n",
    "        outputs = model(image_tensor)\n",
    "        _, predicted_class_index = torch.max(outputs, 1)\n",
    "\n",
    "    return predicted_class_index.item(), image\n",
    "\n",
    "def get_ground_truth_from_csv(csv_path):\n",
    "    \"\"\"Load the CSV file and return a dictionary with filenames as keys and labels as values.\"\"\"\n",
    "    data = pd.read_csv(csv_path, delimiter=',')  # Use the comma delimiter\n",
    "    # Use os.path.basename() to extract just the image filename\n",
    "    filenames = data['Path'].apply(os.path.basename).tolist()\n",
    "    truth_dict = dict(zip(filenames, data['ClassId']))\n",
    "    return truth_dict\n",
    "\n",
    "def predict_on_clean_Dataset(directory_path, model_path, num_images_to_test=None, device=\"cpu\"):\n",
    "    model = load_model(model_path, device=device)\n",
    "    \n",
    "    class_names = pd.read_csv('/home/cc7486/Desktop/Research/MLLsecurity/gtsrb-german-traffic-sign/labels.csv')['Name'].tolist()\n",
    "    \n",
    "    ground_truth = get_ground_truth_from_csv('/home/cc7486/Desktop/Research/MLLsecurity/gtsrb-german-traffic-sign/Test.csv')\n",
    "    filenames = os.listdir(directory_path)\n",
    "#     random.shuffle(filenames)\n",
    "    \n",
    "    if num_images_to_test:\n",
    "        filenames = filenames[:num_images_to_test]\n",
    "\n",
    "    correct_count = 0\n",
    "    total_count = 0\n",
    "    print(\"Starting Prediction....\")\n",
    "    for filename in filenames:\n",
    "        image_path = os.path.join(directory_path, filename)\n",
    "        \n",
    "        if image_path.lower().endswith('.ppm') or image_path.lower().endswith('.png'):\n",
    "            predicted_class_index, image = predict(image_path, model, device)\n",
    "            predicted_class_name = class_names[predicted_class_index]\n",
    "            \n",
    "            # Compare with ground truth\n",
    "            true_class_index = ground_truth.get(filename, None)\n",
    "            if true_class_index is not None:\n",
    "                total_count += 1\n",
    "                if predicted_class_index == true_class_index:\n",
    "                    correct_count += 1\n",
    "        \n",
    "    print(f\"Average Accuracy: {correct_count / total_count * 100:.2f}%\")\n",
    "    \n",
    "def predict_on_backdoored_directory(directory_path, model_path, num_images_to_test=None, device=\"cpu\"):\n",
    "    model = load_model(model_path, device=device)\n",
    "    \n",
    "    # Assuming you have class names to interpret the outputs (you need to define this list)\n",
    "    class_names = pd.read_csv('gtsrb-german-traffic-sign/labels.csv')['Name'].tolist()\n",
    "    # List all files in the directory\n",
    "    filenames = os.listdir(directory_path)\n",
    "    random.shuffle(filenames)\n",
    "    #count number of correct prediction\n",
    "    correct_count=0\n",
    "    #initialize the ground truth class id\n",
    "    #for now, I am checking if the model can predict the backdoored stop sign which belong to class 14\n",
    "    actual_class_index=14\n",
    "    # Limit the number of files processed\n",
    "    if num_images_to_test:\n",
    "        filenames = filenames[:num_images_to_test]\n",
    "\n",
    "    for filename in filenames:\n",
    "        image_path = os.path.join(directory_path, filename)\n",
    "        \n",
    "        # Process only .png images (according to your error traceback)\n",
    "        if image_path.lower().endswith('.png'):\n",
    "            predicted_class_index, image = predict(image_path, model, device)\n",
    "\n",
    "            predicted_class_name = class_names[predicted_class_index]\n",
    "    \n",
    "            if(predicted_class_index==actual_class_index):\n",
    "                correct_count+=1\n",
    "\n",
    "    print(f'Accuracy of backdoored Model images of class {class_names[14]} is :{correct_count / num_images_to_test * 100:.2f}%')\n"
   ]
  },
  {
   "cell_type": "markdown",
   "metadata": {},
   "source": [
    "## Training function "
   ]
  },
  {
   "cell_type": "code",
   "execution_count": 9,
   "metadata": {
    "scrolled": true
   },
   "outputs": [],
   "source": [
    "   \n",
    "def Train(model,criterion,optimizer,num_epochs,batch_size,dataloaders,out_path,device):\n",
    "        best_model_weights = model.state_dict()\n",
    "        best_acc = 0.0\n",
    "        train_loss, val_clean_loss, val_backdoored_loss= [], [], []\n",
    "        train_acc, val_clean_acc,val_backdoored_acc = [], [], []\n",
    "    \n",
    "        for epoch in range(num_epochs):\n",
    "            print(\"epoch {}/{}\".format(epoch+1,num_epochs))\n",
    "            print(\"*\" * 10)\n",
    "\n",
    "            for x in [\"training\",\"clean\",\"backdoor\"]:\n",
    "                if x == \"training\" :\n",
    "                    model.train()\n",
    "                else:\n",
    "                    model.eval()\n",
    "\n",
    "                running_loss = 0.0\n",
    "                running_accuracy = 0\n",
    "\n",
    "                for data in dataloaders[x]:\n",
    "                    img , y,_ = data\n",
    "                    img , y = img.to(device) , y.to(device)\n",
    "\n",
    "                    optimizer.zero_grad()\n",
    "                    y_pred = model(img)\n",
    "                    loss = criterion(y_pred,y)\n",
    "                    _, preds = torch.max(y_pred, dim=1)\n",
    "\n",
    "                    if x == 'training':\n",
    "                        loss.backward()\n",
    "                        optimizer.step()\n",
    "\n",
    "                    running_loss += loss.item()\n",
    "                    running_accuracy += torch.sum(preds == y.data)\n",
    "\n",
    "\n",
    "                epoch_loss = running_loss / dataset_sizes[x]\n",
    "                epoch_acc = running_accuracy / dataset_sizes[x]\n",
    "\n",
    "                print('{} Loss: {:.4f} || Accuracy: {:.4f}'.format(x, epoch_loss, epoch_acc))\n",
    "\n",
    "                # Save metrics\n",
    "                if x == 'training':\n",
    "                    train_loss.append(epoch_loss)\n",
    "                    train_acc.append(epoch_acc)\n",
    "                elif x == \"clean\":\n",
    "                    val_clean_loss.append(epoch_loss)\n",
    "                    val_clean_acc.append(epoch_acc)\n",
    "                else:\n",
    "                    val_backdoored_loss.append(epoch_loss)\n",
    "                    val_backdoored_acc.append(epoch_acc)\n",
    "\n",
    "                # deep copy the model\n",
    "                if x == 'clean' and epoch_acc > best_acc:\n",
    "                    best_acc = epoch_acc\n",
    "\n",
    "\n",
    "        # load best model weights\n",
    "        torch.save(model.state_dict(), out_path)\n",
    "        return train_loss, val_clean_loss, val_backdoored_loss, train_acc, val_clean_acc,val_backdoored_acc, best_acc"
   ]
  },
  {
   "cell_type": "markdown",
   "metadata": {},
   "source": [
    "## Training again from scratch "
   ]
  },
  {
   "cell_type": "markdown",
   "metadata": {},
   "source": [
    "Justification"
   ]
  },
  {
   "cell_type": "code",
   "execution_count": 14,
   "metadata": {},
   "outputs": [
    {
     "name": "stdout",
     "output_type": "stream",
     "text": [
      "Training for configuration ID: 1\n"
     ]
    },
    {
     "name": "stderr",
     "output_type": "stream",
     "text": [
      "  0%|          | 0/801 [00:00<?, ?it/s]"
     ]
    },
    {
     "name": "stderr",
     "output_type": "stream",
     "text": [
      "100%|██████████| 801/801 [00:17<00:00, 44.83it/s]\n",
      "100%|██████████| 801/801 [00:17<00:00, 45.08it/s]\n",
      "100%|██████████| 801/801 [00:18<00:00, 44.26it/s]\n",
      "100%|██████████| 801/801 [00:17<00:00, 44.57it/s]\n",
      "100%|██████████| 801/801 [00:17<00:00, 45.66it/s]\n",
      "100%|██████████| 801/801 [00:17<00:00, 45.34it/s]\n",
      "100%|██████████| 801/801 [00:17<00:00, 45.12it/s]\n",
      "100%|██████████| 801/801 [00:18<00:00, 44.10it/s]\n",
      "100%|██████████| 801/801 [00:17<00:00, 44.70it/s]\n",
      "100%|██████████| 801/801 [00:17<00:00, 44.60it/s]\n",
      "100%|██████████| 801/801 [00:18<00:00, 44.39it/s]\n",
      "100%|██████████| 801/801 [00:17<00:00, 45.36it/s]\n",
      "100%|██████████| 801/801 [00:18<00:00, 43.78it/s]\n",
      "100%|██████████| 801/801 [00:18<00:00, 44.01it/s]\n"
     ]
    },
    {
     "name": "stdout",
     "output_type": "stream",
     "text": [
      "Training completed for all configurations!\n"
     ]
    }
   ],
   "source": [
    "import pickle\n",
    "import warnings\n",
    "\n",
    "# Filter out specific warning\n",
    "warnings.filterwarnings(\"ignore\", category=FutureWarning)\n",
    "warnings.filterwarnings(\"ignore\", category=UserWarning)\n",
    "# Suppress all warnings\n",
    "warnings.filterwarnings(\"ignore\")\n",
    "\n",
    "device = torch.device(\"cuda\" if torch.cuda.is_available() else \"cpu\")\n",
    "# Automatically generate configurations\n",
    "configurations = [\n",
    "    {\n",
    "        \"id\": i,\n",
    "        \"train_path\": f\"/home/cc7486/Desktop/Research/Jupyter/pickle/trainset_{i}.pkl\",\n",
    "        \"clean_val_path\": f\"/home/cc7486/Desktop/Research/Jupyter/pickle/cl-viliset_{i}.pkl\",\n",
    "        \"back_val_path\": f\"/home/cc7486/Desktop/Research/Jupyter/pickle/bd-valiset_{i}.pkl\",\n",
    "        \"test_path\": f\"/home/cc7486/Desktop/Research/MLLsecurity/gtsrb-german-traffic-sign/backdoored-test/300/{i}\"\n",
    "    }\n",
    "    for i in range(1, 2)\n",
    "]\n",
    "# Transforming the Data ToTensor and Normalize it \n",
    "\n",
    "data_transforms = T.Compose([T.ToTensor(),T.Resize((224,224),antialias=True),T.Normalize(mean=[0.485, 0.456, 0.406], std=[0.229, 0.224, 0.225])])\n",
    "data_transforms_train  = T.Compose([T.ToTensor(),T.Resize((224,224),antialias=True)])\n",
    "normalize=T.Normalize(mean=[0.485, 0.456, 0.406], std=[0.229, 0.224, 0.225])\n",
    "batch_size = 32\n",
    "entropy_trojan=[]\n",
    "entropy_benigh=[]\n",
    "\n",
    "for config in configurations:\n",
    "    print(f\"Training for configuration ID: {config['id']}\")\n",
    "\n",
    "    # Initialize the model\n",
    "    num_classes = 43  # The number of output classes in your trained model\n",
    "    model = alexnet(weights=None, num_classes=43).to(device)\n",
    "    model_path=f\"models/50-epoch_model/alexnet_case_{config['id']}.pt\"\n",
    "    state_dict = torch.load(model_path, map_location=device)\n",
    "    model.load_state_dict(state_dict)\n",
    "    model.to(device)\n",
    "\n",
    " \n",
    "    # Training Dataset\n",
    "    train_dataset_path = config[\"train_path\"]\n",
    "    # train_dataset = TSignsDataset(train_dataset_path, transform=data_transforms_train)\n",
    "\n",
    "\n",
    "#     #clean validation images organized in directory for each class\n",
    "#     clean_validation_path = config[\"clean_val_path\"]\n",
    "#     clean_validation_dataset = TSignsDataset(clean_validation_path,transform=data_transforms)\n",
    "\n",
    "#     backdoored_validation_path = config[\"back_val_path\"]\n",
    "#     backdoored_validation_dataset = TSignsDataset(backdoored_validation_path,transform=data_transforms)\n",
    "\n",
    "    #splitting the data into training and validation \n",
    "#     L1 = len(train_dataset)\n",
    "#     L3 = len(clean_validation_dataset)\n",
    "#     L2 = len(backdoored_validation_dataset)\n",
    "#     print(f\"Total length of Dataset Imported: \",L1, L2, L3)\n",
    "\n",
    "\n",
    "    # Loading the data into DataLoader\n",
    "    with open(train_dataset_path, \"rb\") as pickle_file:\n",
    "        train_dataset = pickle.load(pickle_file)\n",
    "    pickle_file.close()\n",
    "    train_loader = DataLoader(dataset=train_dataset, batch_size=40, shuffle=True)\n",
    "#     clean_val_loader = DataLoader(dataset=clean_validation_dataset, batch_size=1, shuffle=False)\n",
    "#     bck_val_loader = DataLoader(dataset=backdoored_validation_dataset, batch_size=1, shuffle=False)\n",
    "\n",
    "    ##CLEANING THE TRAINING DATASET################################\n",
    "    # Assuming suspicious_indices is a list of indices for suspicious images\n",
    "    # msci=most_suspicious_class_info\n",
    "    errors = []\n",
    "    mscis = []\n",
    "    inds = []\n",
    "    for i in range(2, 51, 4):\n",
    "        msci, error, suspicious_indices = cleanser(train_loader, model, num_classes, device, verify_suspicious_indices, i)\n",
    "        errors.append(error)\n",
    "        mscis.append(msci)\n",
    "        inds.append(suspicious_indices)\n",
    "        \n",
    "        if i == 42:\n",
    "            msci, error, suspicious_indices = cleanser(train_loader, model, num_classes, device, verify_suspicious_indices, 43)\n",
    "            errors.append(error)\n",
    "            mscis.append(msci)\n",
    "            inds.append(suspicious_indices)\n",
    "\n",
    "    # x = [i for i in range(2, 51, 4)]\n",
    "    # plt.plot(x, errors)\n",
    "    # plt.show() \n",
    "    # print(\"Most suspicious class: \", suspicious_class)\n",
    "    # print(\"Len of suspicious indices: \",len(suspicious_indices))\n",
    "\n",
    "    # verify_suspicious_indices(train_loader.dataset, suspicious_indices, most_suspicious_class)\n",
    "    # Assuming suspicious_indices contains the indices to be excluded\n",
    "#     clean_train_set = TSignsDataset(root_dir=train_dataset_path, transform=data_transforms, exclude_indices=suspicious_indices)\n",
    "\n",
    "#     clean_train_loader = DataLoader(dataset=clean_train_set, batch_size=batch_size, shuffle=True)\n",
    "\n",
    "\n",
    "#     dataloaders = {'training':clean_train_loader,\"clean\": clean_val_loader, \"backdoor\": bck_val_loader}\n",
    "#     dataset_sizes = {'training':len(clean_train_loader.dataset), \"clean\": len(clean_val_loader), \"backdoor\": len(bck_val_loader)}\n",
    "#     print(dataset_sizes)\n",
    "\n",
    "\n",
    "#     #initialize new model to train from scratch with only clean dataset \n",
    "#     new_model = alexnet(weights=None, num_classes=43).to(device)\n",
    "#     criterion = nn.CrossEntropyLoss()\n",
    "#     optimizer = optim.Adam(new_model.parameters(), lr=0.0001)\n",
    "#     num_epochs = 50\n",
    "#     out_path = f\"alexnet_activation_epochs50_backdoored_config{config['id']}.pt\"\n",
    "\n",
    "\n",
    "#     # Store metrics\n",
    "#     train_loss, clean_val_loss,backdoored_val_loss = [], [], []\n",
    "#     train_acc, clen_val_acc,val_backdoored_acc = [], [], []\n",
    "#     # Train the model\n",
    "#     train_loss, clean_val_loss,backdoored_val_loss ,train_acc, clean_val_acc, val_backdoored_acc,best_acc = Train(new_model, criterion, optimizer, num_epochs, batch_size, dataloaders, out_path,device)\n",
    "#     plot_accuracy(train_loss, clean_val_loss,backdoored_val_loss ,train_acc, clean_val_acc,val_backdoored_acc)\n",
    "#     print('Best validation Accuracy:', best_acc)\n",
    "    \n",
    "# #     #Test accuracy on Clean dataset\n",
    "#     print(\"Accuracy on Test Clean dataset \")\n",
    "#     test_dataset_clean = 'gtsrb-german-traffic-sign/Test'\n",
    "#     predict_on_clean_Dataset(test_dataset_clean, out_path, num_images_to_test=2000, device=device)\n",
    "    \n",
    "#     #Test accuracy on backdoored dataset\n",
    "#     print(\"Accuracy on Test Backdoored dataset\")\n",
    "#     test_dataset_path_backdoored=config[\"test_path\"]\n",
    "#     predict_on_backdoored_directory(test_dataset_path_backdoored, out_path, num_images_to_test=400, device=device)\n",
    "# \n",
    "\n",
    "print(\"Training completed for all configurations!\")\n",
    "\n",
    "\n"
   ]
  },
  {
   "cell_type": "code",
   "execution_count": 15,
   "metadata": {},
   "outputs": [
    {
     "data": {
      "image/png": "[encoded data removed]",
      "text/plain": [
       "<Figure size 432x288 with 1 Axes>"
      ]
     },
     "metadata": {
      "needs_background": "light"
     },
     "output_type": "display_data"
    }
   ],
   "source": [
    "x = []\n",
    "for i in range(2, 51, 4):\n",
    "    x.append(i)\n",
    "    if i == 42:\n",
    "        x.append(43)\n",
    "plt.plot(x, errors)\n",
    "plt.show() "
   ]
  },
  {
   "cell_type": "code",
   "execution_count": 16,
   "metadata": {},
   "outputs": [
    {
     "data": {
      "image/png": "[encoded data removed]",
      "text/plain": [
       "<Figure size 432x288 with 1 Axes>"
      ]
     },
     "metadata": {
      "needs_background": "light"
     },
     "output_type": "display_data"
    }
   ],
   "source": [
    "plt.plot(x, mscis)\n",
    "plt.show()"
   ]
  },
  {
   "cell_type": "code",
   "execution_count": 17,
   "metadata": {},
   "outputs": [
    {
     "name": "stdout",
     "output_type": "stream",
     "text": [
      "Training for configuration ID: 2\n"
     ]
    },
    {
     "name": "stderr",
     "output_type": "stream",
     "text": [
      " 11%|█         | 90/801 [00:02<00:15, 44.60it/s]"
     ]
    },
    {
     "name": "stderr",
     "output_type": "stream",
     "text": [
      "100%|██████████| 801/801 [00:17<00:00, 44.81it/s]\n",
      "100%|██████████| 801/801 [00:17<00:00, 45.38it/s]\n",
      "100%|██████████| 801/801 [00:17<00:00, 45.48it/s]\n",
      "100%|██████████| 801/801 [00:17<00:00, 45.29it/s]\n",
      "100%|██████████| 801/801 [00:18<00:00, 43.64it/s]\n",
      "100%|██████████| 801/801 [00:18<00:00, 44.38it/s]\n",
      "100%|██████████| 801/801 [00:18<00:00, 44.39it/s]\n",
      "100%|██████████| 801/801 [00:18<00:00, 43.83it/s]\n",
      "100%|██████████| 801/801 [00:17<00:00, 45.32it/s]\n",
      "100%|██████████| 801/801 [00:17<00:00, 45.47it/s]\n",
      "100%|██████████| 801/801 [00:17<00:00, 45.01it/s]\n",
      "100%|██████████| 801/801 [00:18<00:00, 43.79it/s]\n",
      "100%|██████████| 801/801 [00:17<00:00, 44.79it/s]\n",
      "100%|██████████| 801/801 [00:18<00:00, 44.44it/s]\n"
     ]
    },
    {
     "name": "stdout",
     "output_type": "stream",
     "text": [
      "Training completed for all configurations!\n"
     ]
    }
   ],
   "source": [
    "import pickle\n",
    "import warnings\n",
    "\n",
    "# Filter out specific warning\n",
    "warnings.filterwarnings(\"ignore\", category=FutureWarning)\n",
    "warnings.filterwarnings(\"ignore\", category=UserWarning)\n",
    "# Suppress all warnings\n",
    "warnings.filterwarnings(\"ignore\")\n",
    "\n",
    "device = torch.device(\"cuda\" if torch.cuda.is_available() else \"cpu\")\n",
    "# Automatically generate configurations\n",
    "configurations = [\n",
    "    {\n",
    "        \"id\": i,\n",
    "        \"train_path\": f\"/home/cc7486/Desktop/Research/Jupyter/pickle/trainset_{i}.pkl\",\n",
    "        \"clean_val_path\": f\"/home/cc7486/Desktop/Research/Jupyter/pickle/cl-viliset_{i}.pkl\",\n",
    "        \"back_val_path\": f\"/home/cc7486/Desktop/Research/Jupyter/pickle/bd-valiset_{i}.pkl\",\n",
    "        \"test_path\": f\"/home/cc7486/Desktop/Research/MLLsecurity/gtsrb-german-traffic-sign/backdoored-test/300/{i}\"\n",
    "    }\n",
    "    for i in range(2, 3)\n",
    "]\n",
    "# Transforming the Data ToTensor and Normalize it \n",
    "\n",
    "data_transforms = T.Compose([T.ToTensor(),T.Resize((224,224),antialias=True),T.Normalize(mean=[0.485, 0.456, 0.406], std=[0.229, 0.224, 0.225])])\n",
    "data_transforms_train  = T.Compose([T.ToTensor(),T.Resize((224,224),antialias=True)])\n",
    "normalize=T.Normalize(mean=[0.485, 0.456, 0.406], std=[0.229, 0.224, 0.225])\n",
    "batch_size = 32\n",
    "entropy_trojan=[]\n",
    "entropy_benigh=[]\n",
    "\n",
    "for config in configurations:\n",
    "    print(f\"Training for configuration ID: {config['id']}\")\n",
    "\n",
    "    # Initialize the model\n",
    "    num_classes = 43  # The number of output classes in your trained model\n",
    "    model = alexnet(weights=None, num_classes=43).to(device)\n",
    "    model_path=f\"models/50-epoch_model/alexnet_case_{config['id']}.pt\"\n",
    "    state_dict = torch.load(model_path, map_location=device)\n",
    "    model.load_state_dict(state_dict)\n",
    "    model.to(device)\n",
    "\n",
    " \n",
    "    # Training Dataset\n",
    "    train_dataset_path = config[\"train_path\"]\n",
    "    # train_dataset = TSignsDataset(train_dataset_path, transform=data_transforms_train)\n",
    "\n",
    "\n",
    "#     #clean validation images organized in directory for each class\n",
    "#     clean_validation_path = config[\"clean_val_path\"]\n",
    "#     clean_validation_dataset = TSignsDataset(clean_validation_path,transform=data_transforms)\n",
    "\n",
    "#     backdoored_validation_path = config[\"back_val_path\"]\n",
    "#     backdoored_validation_dataset = TSignsDataset(backdoored_validation_path,transform=data_transforms)\n",
    "\n",
    "    #splitting the data into training and validation \n",
    "#     L1 = len(train_dataset)\n",
    "#     L3 = len(clean_validation_dataset)\n",
    "#     L2 = len(backdoored_validation_dataset)\n",
    "#     print(f\"Total length of Dataset Imported: \",L1, L2, L3)\n",
    "\n",
    "\n",
    "    # Loading the data into DataLoader\n",
    "    with open(train_dataset_path, \"rb\") as pickle_file:\n",
    "        train_dataset = pickle.load(pickle_file)\n",
    "    pickle_file.close()\n",
    "    train_loader = DataLoader(dataset=train_dataset, batch_size=40, shuffle=True)\n",
    "#     clean_val_loader = DataLoader(dataset=clean_validation_dataset, batch_size=1, shuffle=False)\n",
    "#     bck_val_loader = DataLoader(dataset=backdoored_validation_dataset, batch_size=1, shuffle=False)\n",
    "\n",
    "    ##CLEANING THE TRAINING DATASET################################\n",
    "    # Assuming suspicious_indices is a list of indices for suspicious images\n",
    "    # msci=most_suspicious_class_info\n",
    "    errors = []\n",
    "    mscis = []\n",
    "    inds = []\n",
    "    for i in range(2, 51, 4):\n",
    "        msci, error, suspicious_indices = cleanser(train_loader, model, num_classes, device, verify_suspicious_indices, i)\n",
    "        errors.append(error)\n",
    "        mscis.append(msci)\n",
    "        inds.append(suspicious_indices)\n",
    "        \n",
    "        if i == 42:\n",
    "            msci, error, suspicious_indices = cleanser(train_loader, model, num_classes, device, verify_suspicious_indices, 43)\n",
    "            errors.append(error)\n",
    "            mscis.append(msci)\n",
    "            inds.append(suspicious_indices)\n",
    "\n",
    "    # x = [i for i in range(2, 51, 4)]\n",
    "    # plt.plot(x, errors)\n",
    "    # plt.show()\n",
    "\n",
    "print(\"Training completed for all configurations!\")\n",
    "\n",
    "\n"
   ]
  },
  {
   "cell_type": "code",
   "execution_count": 20,
   "metadata": {},
   "outputs": [
    {
     "data": {
      "image/png": "[encoded data removed]",
      "text/plain": [
       "<Figure size 432x288 with 1 Axes>"
      ]
     },
     "metadata": {
      "needs_background": "light"
     },
     "output_type": "display_data"
    }
   ],
   "source": [
    "x = []\n",
    "for i in range(2, 51, 4):\n",
    "    x.append(i)\n",
    "    if i == 42:\n",
    "        x.append(43)\n",
    "plt.plot(x, errors)\n",
    "plt.show()"
   ]
  },
  {
   "cell_type": "code",
   "execution_count": 19,
   "metadata": {},
   "outputs": [
    {
     "data": {
      "image/png": "[encoded data removed]",
      "text/plain": [
       "<Figure size 432x288 with 1 Axes>"
      ]
     },
     "metadata": {
      "needs_background": "light"
     },
     "output_type": "display_data"
    }
   ],
   "source": [
    "plt.plot(x, mscis)\n",
    "plt.show()"
   ]
  },
  {
   "cell_type": "code",
   "execution_count": 14,
   "metadata": {},
   "outputs": [
    {
     "name": "stdout",
     "output_type": "stream",
     "text": [
      "Training for configuration ID: 3\n"
     ]
    },
    {
     "name": "stderr",
     "output_type": "stream",
     "text": [
      "100%|██████████| 801/801 [00:18<00:00, 42.94it/s]\n",
      "100%|██████████| 801/801 [00:17<00:00, 45.16it/s]\n",
      "100%|██████████| 801/801 [00:17<00:00, 44.69it/s]\n",
      "100%|██████████| 801/801 [00:17<00:00, 45.23it/s]\n",
      "100%|██████████| 801/801 [00:17<00:00, 44.70it/s]\n",
      "100%|██████████| 801/801 [00:17<00:00, 44.80it/s]\n",
      "100%|██████████| 801/801 [00:18<00:00, 44.22it/s]\n",
      "100%|██████████| 801/801 [00:17<00:00, 45.16it/s]\n",
      "100%|██████████| 801/801 [00:18<00:00, 44.49it/s]\n",
      "100%|██████████| 801/801 [00:18<00:00, 44.39it/s]\n",
      "100%|██████████| 801/801 [00:17<00:00, 44.63it/s]\n",
      "100%|██████████| 801/801 [00:17<00:00, 44.69it/s]\n",
      "100%|██████████| 801/801 [00:17<00:00, 44.52it/s]\n",
      "100%|██████████| 801/801 [00:17<00:00, 44.87it/s]\n"
     ]
    },
    {
     "name": "stdout",
     "output_type": "stream",
     "text": [
      "Training completed for all configurations!\n"
     ]
    }
   ],
   "source": [
    "import pickle\n",
    "import warnings\n",
    "\n",
    "# Filter out specific warning\n",
    "warnings.filterwarnings(\"ignore\", category=FutureWarning)\n",
    "warnings.filterwarnings(\"ignore\", category=UserWarning)\n",
    "# Suppress all warnings\n",
    "warnings.filterwarnings(\"ignore\")\n",
    "\n",
    "device = torch.device(\"cuda\" if torch.cuda.is_available() else \"cpu\")\n",
    "# Automatically generate configurations\n",
    "configurations = [\n",
    "    {\n",
    "        \"id\": i,\n",
    "        \"train_path\": f\"/home/cc7486/Desktop/Research/Jupyter/pickle/trainset_{i}.pkl\",\n",
    "        \"clean_val_path\": f\"/home/cc7486/Desktop/Research/Jupyter/pickle/cl-viliset_{i}.pkl\",\n",
    "        \"back_val_path\": f\"/home/cc7486/Desktop/Research/Jupyter/pickle/bd-valiset_{i}.pkl\",\n",
    "        \"test_path\": f\"/home/cc7486/Desktop/Research/MLLsecurity/gtsrb-german-traffic-sign/backdoored-test/300/{i}\"\n",
    "    }\n",
    "    for i in range(3, 4)\n",
    "]\n",
    "# Transforming the Data ToTensor and Normalize it \n",
    "\n",
    "data_transforms = T.Compose([T.ToTensor(),T.Resize((224,224),antialias=True),T.Normalize(mean=[0.485, 0.456, 0.406], std=[0.229, 0.224, 0.225])])\n",
    "data_transforms_train  = T.Compose([T.ToTensor(),T.Resize((224,224),antialias=True)])\n",
    "normalize=T.Normalize(mean=[0.485, 0.456, 0.406], std=[0.229, 0.224, 0.225])\n",
    "batch_size = 32\n",
    "entropy_trojan=[]\n",
    "entropy_benigh=[]\n",
    "\n",
    "for config in configurations:\n",
    "    print(f\"Training for configuration ID: {config['id']}\")\n",
    "\n",
    "    # Initialize the model\n",
    "    num_classes = 43  # The number of output classes in your trained model\n",
    "    model = alexnet(weights=None, num_classes=43).to(device)\n",
    "    model_path=f\"models/50-epoch_model/alexnet_case_{config['id']}.pt\"\n",
    "    state_dict = torch.load(model_path, map_location=device)\n",
    "    model.load_state_dict(state_dict)\n",
    "    model.to(device)\n",
    "\n",
    " \n",
    "    # Training Dataset\n",
    "    train_dataset_path = config[\"train_path\"]\n",
    "    # train_dataset = TSignsDataset(train_dataset_path, transform=data_transforms_train)\n",
    "\n",
    "\n",
    "#     #clean validation images organized in directory for each class\n",
    "#     clean_validation_path = config[\"clean_val_path\"]\n",
    "#     clean_validation_dataset = TSignsDataset(clean_validation_path,transform=data_transforms)\n",
    "\n",
    "#     backdoored_validation_path = config[\"back_val_path\"]\n",
    "#     backdoored_validation_dataset = TSignsDataset(backdoored_validation_path,transform=data_transforms)\n",
    "\n",
    "    #splitting the data into training and validation \n",
    "#     L1 = len(train_dataset)\n",
    "#     L3 = len(clean_validation_dataset)\n",
    "#     L2 = len(backdoored_validation_dataset)\n",
    "#     print(f\"Total length of Dataset Imported: \",L1, L2, L3)\n",
    "\n",
    "\n",
    "    # Loading the data into DataLoader\n",
    "    with open(train_dataset_path, \"rb\") as pickle_file:\n",
    "        train_dataset = pickle.load(pickle_file)\n",
    "    pickle_file.close()\n",
    "    train_loader = DataLoader(dataset=train_dataset, batch_size=40, shuffle=True)\n",
    "#     clean_val_loader = DataLoader(dataset=clean_validation_dataset, batch_size=1, shuffle=False)\n",
    "#     bck_val_loader = DataLoader(dataset=backdoored_validation_dataset, batch_size=1, shuffle=False)\n",
    "\n",
    "    ##CLEANING THE TRAINING DATASET################################\n",
    "    # Assuming suspicious_indices is a list of indices for suspicious images\n",
    "    # msci=most_suspicious_class_info\n",
    "    errors = []\n",
    "    mscis = []\n",
    "    inds = []\n",
    "    for i in range(2, 51, 4):\n",
    "        msci, error, suspicious_indices = cleanser(train_loader, model, num_classes, device, verify_suspicious_indices, i)\n",
    "        errors.append(error)\n",
    "        mscis.append(msci)\n",
    "        inds.append(suspicious_indices)\n",
    "        \n",
    "        if i == 42:\n",
    "            msci, error, suspicious_indices = cleanser(train_loader, model, num_classes, device, verify_suspicious_indices, 43)\n",
    "            errors.append(error)\n",
    "            mscis.append(msci)\n",
    "            inds.append(suspicious_indices)\n",
    "\n",
    "    # x = [i for i in range(2, 51, 4)]\n",
    "    # plt.plot(x, errors)\n",
    "    # plt.show()\n",
    "\n",
    "print(\"Training completed for all configurations!\")\n",
    "\n",
    "\n"
   ]
  },
  {
   "cell_type": "code",
   "execution_count": 15,
   "metadata": {},
   "outputs": [
    {
     "data": {
      "image/png": "[encoded data removed]",
      "text/plain": [
       "<Figure size 432x288 with 1 Axes>"
      ]
     },
     "metadata": {
      "needs_background": "light"
     },
     "output_type": "display_data"
    }
   ],
   "source": [
    "x = []\n",
    "for i in range(2, 51, 4):\n",
    "    x.append(i)\n",
    "    if i == 42:\n",
    "        x.append(43)\n",
    "plt.plot(x, errors)\n",
    "plt.show()"
   ]
  },
  {
   "cell_type": "code",
   "execution_count": 16,
   "metadata": {},
   "outputs": [
    {
     "data": {
      "image/png": "[encoded data removed]",
      "text/plain": [
       "<Figure size 432x288 with 1 Axes>"
      ]
     },
     "metadata": {
      "needs_background": "light"
     },
     "output_type": "display_data"
    }
   ],
   "source": [
    "plt.plot(x, mscis)\n",
    "plt.show()"
   ]
  },
  {
   "cell_type": "code",
   "execution_count": 22,
   "metadata": {},
   "outputs": [
    {
     "name": "stdout",
     "output_type": "stream",
     "text": [
      "Training for configuration ID: 6\n"
     ]
    },
    {
     "name": "stderr",
     "output_type": "stream",
     "text": [
      "100%|██████████| 801/801 [00:17<00:00, 44.79it/s]\n",
      "100%|██████████| 801/801 [00:17<00:00, 44.79it/s]\n",
      "100%|██████████| 801/801 [00:18<00:00, 44.46it/s]\n",
      "100%|██████████| 801/801 [00:18<00:00, 44.22it/s]\n",
      "100%|██████████| 801/801 [00:17<00:00, 44.69it/s]\n",
      "100%|██████████| 801/801 [00:18<00:00, 44.20it/s]\n",
      "100%|██████████| 801/801 [00:17<00:00, 44.84it/s]\n",
      "100%|██████████| 801/801 [00:17<00:00, 44.72it/s]\n",
      "100%|██████████| 801/801 [00:18<00:00, 44.25it/s]\n",
      "100%|██████████| 801/801 [00:17<00:00, 45.01it/s]\n",
      "100%|██████████| 801/801 [00:17<00:00, 45.42it/s]\n",
      "100%|██████████| 801/801 [00:17<00:00, 44.99it/s]\n",
      "100%|██████████| 801/801 [00:17<00:00, 45.35it/s]\n",
      "100%|██████████| 801/801 [00:17<00:00, 45.12it/s]\n"
     ]
    },
    {
     "name": "stdout",
     "output_type": "stream",
     "text": [
      "Training completed for all configurations!\n"
     ]
    }
   ],
   "source": [
    "import pickle\n",
    "import warnings\n",
    "\n",
    "# Filter out specific warning\n",
    "warnings.filterwarnings(\"ignore\", category=FutureWarning)\n",
    "warnings.filterwarnings(\"ignore\", category=UserWarning)\n",
    "# Suppress all warnings\n",
    "warnings.filterwarnings(\"ignore\")\n",
    "\n",
    "device = torch.device(\"cuda\" if torch.cuda.is_available() else \"cpu\")\n",
    "# Automatically generate configurations\n",
    "configurations = [\n",
    "    {\n",
    "        \"id\": i,\n",
    "        \"train_path\": f\"/home/cc7486/Desktop/Research/Jupyter/pickle/trainset_{i}.pkl\",\n",
    "        \"clean_val_path\": f\"/home/cc7486/Desktop/Research/Jupyter/pickle/cl-viliset_{i}.pkl\",\n",
    "        \"back_val_path\": f\"/home/cc7486/Desktop/Research/Jupyter/pickle/bd-valiset_{i}.pkl\",\n",
    "        \"test_path\": f\"/home/cc7486/Desktop/Research/MLLsecurity/gtsrb-german-traffic-sign/backdoored-test/300/{i}\"\n",
    "    }\n",
    "    for i in range(6, 7)\n",
    "]\n",
    "# Transforming the Data ToTensor and Normalize it \n",
    "\n",
    "data_transforms = T.Compose([T.ToTensor(),T.Resize((224,224),antialias=True),T.Normalize(mean=[0.485, 0.456, 0.406], std=[0.229, 0.224, 0.225])])\n",
    "data_transforms_train  = T.Compose([T.ToTensor(),T.Resize((224,224),antialias=True)])\n",
    "normalize=T.Normalize(mean=[0.485, 0.456, 0.406], std=[0.229, 0.224, 0.225])\n",
    "batch_size = 32\n",
    "entropy_trojan=[]\n",
    "entropy_benigh=[]\n",
    "\n",
    "for config in configurations:\n",
    "    print(f\"Training for configuration ID: {config['id']}\")\n",
    "\n",
    "    # Initialize the model\n",
    "    num_classes = 43  # The number of output classes in your trained model\n",
    "    model = alexnet(weights=None, num_classes=43).to(device)\n",
    "    model_path=f\"models/50-epoch_model/alexnet_case_{config['id']}.pt\"\n",
    "    state_dict = torch.load(model_path, map_location=device)\n",
    "    model.load_state_dict(state_dict)\n",
    "    model.to(device)\n",
    "\n",
    " \n",
    "    # Training Dataset\n",
    "    train_dataset_path = config[\"train_path\"]\n",
    "    # train_dataset = TSignsDataset(train_dataset_path, transform=data_transforms_train)\n",
    "\n",
    "\n",
    "#     #clean validation images organized in directory for each class\n",
    "#     clean_validation_path = config[\"clean_val_path\"]\n",
    "#     clean_validation_dataset = TSignsDataset(clean_validation_path,transform=data_transforms)\n",
    "\n",
    "#     backdoored_validation_path = config[\"back_val_path\"]\n",
    "#     backdoored_validation_dataset = TSignsDataset(backdoored_validation_path,transform=data_transforms)\n",
    "\n",
    "    #splitting the data into training and validation \n",
    "#     L1 = len(train_dataset)\n",
    "#     L3 = len(clean_validation_dataset)\n",
    "#     L2 = len(backdoored_validation_dataset)\n",
    "#     print(f\"Total length of Dataset Imported: \",L1, L2, L3)\n",
    "\n",
    "\n",
    "    # Loading the data into DataLoader\n",
    "    with open(train_dataset_path, \"rb\") as pickle_file:\n",
    "        train_dataset = pickle.load(pickle_file)\n",
    "    pickle_file.close()\n",
    "    train_loader = DataLoader(dataset=train_dataset, batch_size=40, shuffle=True)\n",
    "#     clean_val_loader = DataLoader(dataset=clean_validation_dataset, batch_size=1, shuffle=False)\n",
    "#     bck_val_loader = DataLoader(dataset=backdoored_validation_dataset, batch_size=1, shuffle=False)\n",
    "\n",
    "    ##CLEANING THE TRAINING DATASET################################\n",
    "    # Assuming suspicious_indices is a list of indices for suspicious images\n",
    "    # msci=most_suspicious_class_info\n",
    "    errors = []\n",
    "    mscis = []\n",
    "    inds = []\n",
    "    for i in range(2, 51, 4):\n",
    "        msci, error, suspicious_indices = cleanser(train_loader, model, num_classes, device, verify_suspicious_indices, i)\n",
    "        errors.append(error)\n",
    "        mscis.append(msci)\n",
    "        inds.append(suspicious_indices)\n",
    "        \n",
    "        if i == 42:\n",
    "            msci, error, suspicious_indices = cleanser(train_loader, model, num_classes, device, verify_suspicious_indices, 43)\n",
    "            errors.append(error)\n",
    "            mscis.append(msci)\n",
    "            inds.append(suspicious_indices)\n",
    "\n",
    "    # x = [i for i in range(2, 51, 4)]\n",
    "    # plt.plot(x, errors)\n",
    "    # plt.show()\n",
    "\n",
    "print(\"Training completed for all configurations!\")\n",
    "\n",
    "\n"
   ]
  },
  {
   "cell_type": "code",
   "execution_count": 23,
   "metadata": {},
   "outputs": [
    {
     "data": {
      "image/png": "[encoded data removed]",
      "text/plain": [
       "<Figure size 432x288 with 1 Axes>"
      ]
     },
     "metadata": {
      "needs_background": "light"
     },
     "output_type": "display_data"
    }
   ],
   "source": [
    "x = []\n",
    "for i in range(2, 51, 4):\n",
    "    x.append(i)\n",
    "    if i == 42:\n",
    "        x.append(43)\n",
    "plt.plot(x, errors)\n",
    "plt.show()"
   ]
  },
  {
   "cell_type": "code",
   "execution_count": 24,
   "metadata": {},
   "outputs": [
    {
     "data": {
      "image/png": "[encoded data removed]",
      "text/plain": [
       "<Figure size 432x288 with 1 Axes>"
      ]
     },
     "metadata": {
      "needs_background": "light"
     },
     "output_type": "display_data"
    }
   ],
   "source": [
    "plt.plot(x, mscis)\n",
    "plt.show()"
   ]
  },
  {
   "cell_type": "code",
   "execution_count": 11,
   "metadata": {},
   "outputs": [
    {
     "name": "stdout",
     "output_type": "stream",
     "text": [
      "Training for configuration ID: 7\n"
     ]
    },
    {
     "name": "stderr",
     "output_type": "stream",
     "text": [
      "100%|██████████| 801/801 [00:18<00:00, 44.15it/s]\n",
      "100%|██████████| 801/801 [00:17<00:00, 44.89it/s]\n",
      "100%|██████████| 801/801 [00:17<00:00, 45.55it/s]\n",
      "100%|██████████| 801/801 [00:17<00:00, 45.17it/s]\n",
      "100%|██████████| 801/801 [00:17<00:00, 45.17it/s]\n",
      "100%|██████████| 801/801 [00:18<00:00, 43.21it/s]\n",
      "100%|██████████| 801/801 [00:18<00:00, 43.68it/s]\n",
      "100%|██████████| 801/801 [00:18<00:00, 44.46it/s]\n",
      "100%|██████████| 801/801 [00:18<00:00, 44.39it/s]\n",
      "100%|██████████| 801/801 [00:17<00:00, 45.47it/s]\n",
      "100%|██████████| 801/801 [00:17<00:00, 44.89it/s]\n",
      "100%|██████████| 801/801 [00:18<00:00, 43.72it/s]\n",
      "100%|██████████| 801/801 [00:17<00:00, 44.83it/s]\n",
      "100%|██████████| 801/801 [00:17<00:00, 45.45it/s]\n"
     ]
    },
    {
     "name": "stdout",
     "output_type": "stream",
     "text": [
      "Training completed for all configurations!\n"
     ]
    }
   ],
   "source": [
    "import pickle\n",
    "import warnings\n",
    "\n",
    "# Filter out specific warning\n",
    "warnings.filterwarnings(\"ignore\", category=FutureWarning)\n",
    "warnings.filterwarnings(\"ignore\", category=UserWarning)\n",
    "# Suppress all warnings\n",
    "warnings.filterwarnings(\"ignore\")\n",
    "\n",
    "device = torch.device(\"cuda\" if torch.cuda.is_available() else \"cpu\")\n",
    "# Automatically generate configurations\n",
    "configurations = [\n",
    "    {\n",
    "        \"id\": i,\n",
    "        \"train_path\": f\"/home/cc7486/Desktop/Research/Jupyter/pickle/trainset_{i}.pkl\",\n",
    "        \"clean_val_path\": f\"/home/cc7486/Desktop/Research/Jupyter/pickle/cl-viliset_{i}.pkl\",\n",
    "        \"back_val_path\": f\"/home/cc7486/Desktop/Research/Jupyter/pickle/bd-valiset_{i}.pkl\",\n",
    "        \"test_path\": f\"/home/cc7486/Desktop/Research/MLLsecurity/gtsrb-german-traffic-sign/backdoored-test/300/{i}\"\n",
    "    }\n",
    "    for i in range(7, 8)\n",
    "]\n",
    "# Transforming the Data ToTensor and Normalize it \n",
    "\n",
    "data_transforms = T.Compose([T.ToTensor(),T.Resize((224,224),antialias=True),T.Normalize(mean=[0.485, 0.456, 0.406], std=[0.229, 0.224, 0.225])])\n",
    "data_transforms_train  = T.Compose([T.ToTensor(),T.Resize((224,224),antialias=True)])\n",
    "normalize=T.Normalize(mean=[0.485, 0.456, 0.406], std=[0.229, 0.224, 0.225])\n",
    "batch_size = 32\n",
    "entropy_trojan=[]\n",
    "entropy_benigh=[]\n",
    "\n",
    "for config in configurations:\n",
    "    print(f\"Training for configuration ID: {config['id']}\")\n",
    "\n",
    "    # Initialize the model\n",
    "    num_classes = 43  # The number of output classes in your trained model\n",
    "    model = alexnet(weights=None, num_classes=43).to(device)\n",
    "    model_path=f\"models/50-epoch_model/alexnet_case_{config['id']}.pt\"\n",
    "    state_dict = torch.load(model_path, map_location=device)\n",
    "    model.load_state_dict(state_dict)\n",
    "    model.to(device)\n",
    "\n",
    " \n",
    "    # Training Dataset\n",
    "    train_dataset_path = config[\"train_path\"]\n",
    "    # train_dataset = TSignsDataset(train_dataset_path, transform=data_transforms_train)\n",
    "\n",
    "\n",
    "#     #clean validation images organized in directory for each class\n",
    "#     clean_validation_path = config[\"clean_val_path\"]\n",
    "#     clean_validation_dataset = TSignsDataset(clean_validation_path,transform=data_transforms)\n",
    "\n",
    "#     backdoored_validation_path = config[\"back_val_path\"]\n",
    "#     backdoored_validation_dataset = TSignsDataset(backdoored_validation_path,transform=data_transforms)\n",
    "\n",
    "    #splitting the data into training and validation \n",
    "#     L1 = len(train_dataset)\n",
    "#     L3 = len(clean_validation_dataset)\n",
    "#     L2 = len(backdoored_validation_dataset)\n",
    "#     print(f\"Total length of Dataset Imported: \",L1, L2, L3)\n",
    "\n",
    "\n",
    "    # Loading the data into DataLoader\n",
    "    with open(train_dataset_path, \"rb\") as pickle_file:\n",
    "        train_dataset = pickle.load(pickle_file)\n",
    "    pickle_file.close()\n",
    "    train_loader = DataLoader(dataset=train_dataset, batch_size=40, shuffle=True)\n",
    "#     clean_val_loader = DataLoader(dataset=clean_validation_dataset, batch_size=1, shuffle=False)\n",
    "#     bck_val_loader = DataLoader(dataset=backdoored_validation_dataset, batch_size=1, shuffle=False)\n",
    "\n",
    "    ##CLEANING THE TRAINING DATASET################################\n",
    "    # Assuming suspicious_indices is a list of indices for suspicious images\n",
    "    # msci=most_suspicious_class_info\n",
    "    errors = []\n",
    "    mscis = []\n",
    "    inds = []\n",
    "    for i in range(2, 51, 4):\n",
    "        msci, error, suspicious_indices = cleanser(train_loader, model, num_classes, device, verify_suspicious_indices, i)\n",
    "        errors.append(error)\n",
    "        mscis.append(msci)\n",
    "        inds.append(suspicious_indices)\n",
    "        \n",
    "        if i == 42:\n",
    "            msci, error, suspicious_indices = cleanser(train_loader, model, num_classes, device, verify_suspicious_indices, 43)\n",
    "            errors.append(error)\n",
    "            mscis.append(msci)\n",
    "            inds.append(suspicious_indices)\n",
    "\n",
    "    # x = [i for i in range(2, 51, 4)]\n",
    "    # plt.plot(x, errors)\n",
    "    # plt.show()\n",
    "\n",
    "print(\"Training completed for all configurations!\")\n",
    "\n",
    "\n"
   ]
  },
  {
   "cell_type": "code",
   "execution_count": 12,
   "metadata": {},
   "outputs": [
    {
     "data": {
      "image/png": "[encoded data removed]",
      "text/plain": [
       "<Figure size 432x288 with 1 Axes>"
      ]
     },
     "metadata": {
      "needs_background": "light"
     },
     "output_type": "display_data"
    }
   ],
   "source": [
    "x = []\n",
    "for i in range(2, 51, 4):\n",
    "    x.append(i)\n",
    "    if i == 42:\n",
    "        x.append(43)\n",
    "plt.plot(x, errors)\n",
    "plt.show()"
   ]
  },
  {
   "cell_type": "code",
   "execution_count": 13,
   "metadata": {},
   "outputs": [
    {
     "data": {
      "image/png": "[encoded data removed]",
      "text/plain": [
       "<Figure size 432x288 with 1 Axes>"
      ]
     },
     "metadata": {
      "needs_background": "light"
     },
     "output_type": "display_data"
    }
   ],
   "source": [
    "plt.plot(x, mscis)\n",
    "plt.show()"
   ]
  },
  {
   "cell_type": "markdown",
   "metadata": {},
   "source": [
    "Unified method"
   ]
  },
  {
   "cell_type": "code",
   "execution_count": 15,
   "metadata": {},
   "outputs": [
    {
     "name": "stdout",
     "output_type": "stream",
     "text": [
      "Training for configuration ID: 1\n"
     ]
    },
    {
     "name": "stderr",
     "output_type": "stream",
     "text": [
      "100%|██████████| 801/801 [00:17<00:00, 45.19it/s]\n",
      "100%|██████████| 801/801 [00:17<00:00, 45.43it/s]\n"
     ]
    },
    {
     "name": "stdout",
     "output_type": "stream",
     "text": [
      "Most suspicious class:  14\n",
      "Training for configuration ID: 2\n"
     ]
    },
    {
     "name": "stderr",
     "output_type": "stream",
     "text": [
      "100%|██████████| 801/801 [00:17<00:00, 44.57it/s]\n",
      "100%|██████████| 801/801 [00:17<00:00, 45.47it/s]\n"
     ]
    },
    {
     "name": "stdout",
     "output_type": "stream",
     "text": [
      "Most suspicious class:  14\n",
      "Training for configuration ID: 3\n"
     ]
    },
    {
     "name": "stderr",
     "output_type": "stream",
     "text": [
      "100%|██████████| 801/801 [00:17<00:00, 44.70it/s]\n",
      "100%|██████████| 801/801 [00:17<00:00, 44.73it/s]\n"
     ]
    },
    {
     "name": "stdout",
     "output_type": "stream",
     "text": [
      "Most suspicious class:  14\n",
      "Training for configuration ID: 4\n"
     ]
    },
    {
     "name": "stderr",
     "output_type": "stream",
     "text": [
      "100%|██████████| 801/801 [00:17<00:00, 44.53it/s]\n",
      "100%|██████████| 801/801 [00:17<00:00, 45.50it/s]\n"
     ]
    },
    {
     "name": "stdout",
     "output_type": "stream",
     "text": [
      "Most suspicious class:  14\n",
      "Training for configuration ID: 5\n"
     ]
    },
    {
     "name": "stderr",
     "output_type": "stream",
     "text": [
      "100%|██████████| 801/801 [00:17<00:00, 45.17it/s]\n",
      "100%|██████████| 801/801 [00:17<00:00, 44.58it/s]\n"
     ]
    },
    {
     "name": "stdout",
     "output_type": "stream",
     "text": [
      "Most suspicious class:  14\n",
      "Training for configuration ID: 6\n"
     ]
    },
    {
     "name": "stderr",
     "output_type": "stream",
     "text": [
      "100%|██████████| 801/801 [00:17<00:00, 45.52it/s]\n",
      "100%|██████████| 801/801 [00:17<00:00, 45.61it/s]\n"
     ]
    },
    {
     "name": "stdout",
     "output_type": "stream",
     "text": [
      "Most suspicious class:  14\n",
      "Training for configuration ID: 7\n"
     ]
    },
    {
     "name": "stderr",
     "output_type": "stream",
     "text": [
      "100%|██████████| 801/801 [00:17<00:00, 44.67it/s]\n",
      "100%|██████████| 801/801 [00:17<00:00, 45.43it/s]\n"
     ]
    },
    {
     "name": "stdout",
     "output_type": "stream",
     "text": [
      "Most suspicious class:  14\n",
      "Training for configuration ID: 8\n"
     ]
    },
    {
     "name": "stderr",
     "output_type": "stream",
     "text": [
      "100%|██████████| 801/801 [00:17<00:00, 45.34it/s]\n",
      "100%|██████████| 801/801 [00:18<00:00, 44.47it/s]\n"
     ]
    },
    {
     "name": "stdout",
     "output_type": "stream",
     "text": [
      "Most suspicious class:  14\n",
      "Training for configuration ID: 9\n"
     ]
    },
    {
     "name": "stderr",
     "output_type": "stream",
     "text": [
      "100%|██████████| 801/801 [00:17<00:00, 45.24it/s]\n",
      "100%|██████████| 801/801 [00:17<00:00, 44.82it/s]\n"
     ]
    },
    {
     "name": "stdout",
     "output_type": "stream",
     "text": [
      "Most suspicious class:  14\n",
      "Training for configuration ID: 10\n"
     ]
    },
    {
     "name": "stderr",
     "output_type": "stream",
     "text": [
      "100%|██████████| 801/801 [00:17<00:00, 45.25it/s]\n",
      "100%|██████████| 801/801 [00:17<00:00, 45.42it/s]\n"
     ]
    },
    {
     "name": "stdout",
     "output_type": "stream",
     "text": [
      "Most suspicious class:  14\n",
      "Training for configuration ID: 11\n"
     ]
    },
    {
     "name": "stderr",
     "output_type": "stream",
     "text": [
      "100%|██████████| 801/801 [00:17<00:00, 45.63it/s]\n",
      "100%|██████████| 801/801 [00:17<00:00, 45.03it/s]\n"
     ]
    },
    {
     "name": "stdout",
     "output_type": "stream",
     "text": [
      "Most suspicious class:  14\n",
      "Training for configuration ID: 12\n"
     ]
    },
    {
     "name": "stderr",
     "output_type": "stream",
     "text": [
      "100%|██████████| 801/801 [00:17<00:00, 44.73it/s]\n",
      "100%|██████████| 801/801 [00:17<00:00, 45.53it/s]\n"
     ]
    },
    {
     "name": "stdout",
     "output_type": "stream",
     "text": [
      "Most suspicious class:  14\n",
      "Training for configuration ID: 13\n"
     ]
    },
    {
     "name": "stderr",
     "output_type": "stream",
     "text": [
      "100%|██████████| 801/801 [00:17<00:00, 44.82it/s]\n",
      "100%|██████████| 801/801 [00:17<00:00, 45.76it/s]\n"
     ]
    },
    {
     "name": "stdout",
     "output_type": "stream",
     "text": [
      "Most suspicious class:  14\n",
      "Training for configuration ID: 14\n"
     ]
    },
    {
     "name": "stderr",
     "output_type": "stream",
     "text": [
      "100%|██████████| 801/801 [00:17<00:00, 45.02it/s]\n",
      "100%|██████████| 801/801 [00:17<00:00, 44.92it/s]\n"
     ]
    },
    {
     "name": "stdout",
     "output_type": "stream",
     "text": [
      "Most suspicious class:  14\n",
      "Training for configuration ID: 15\n"
     ]
    },
    {
     "name": "stderr",
     "output_type": "stream",
     "text": [
      "100%|██████████| 801/801 [00:18<00:00, 43.94it/s]\n",
      "100%|██████████| 801/801 [00:18<00:00, 44.32it/s]\n"
     ]
    },
    {
     "name": "stdout",
     "output_type": "stream",
     "text": [
      "Most suspicious class:  14\n",
      "Training for configuration ID: 16\n"
     ]
    },
    {
     "name": "stderr",
     "output_type": "stream",
     "text": [
      "100%|██████████| 801/801 [00:17<00:00, 44.92it/s]\n",
      "100%|██████████| 801/801 [00:17<00:00, 44.60it/s]\n"
     ]
    },
    {
     "name": "stdout",
     "output_type": "stream",
     "text": [
      "Most suspicious class:  14\n",
      "Training for configuration ID: 17\n"
     ]
    },
    {
     "name": "stderr",
     "output_type": "stream",
     "text": [
      "100%|██████████| 801/801 [00:17<00:00, 45.50it/s]\n",
      "100%|██████████| 801/801 [00:17<00:00, 45.23it/s]\n"
     ]
    },
    {
     "name": "stdout",
     "output_type": "stream",
     "text": [
      "Most suspicious class:  14\n",
      "Training for configuration ID: 18\n"
     ]
    },
    {
     "name": "stderr",
     "output_type": "stream",
     "text": [
      "100%|██████████| 801/801 [00:17<00:00, 45.31it/s]\n",
      "100%|██████████| 801/801 [00:17<00:00, 45.49it/s]\n"
     ]
    },
    {
     "name": "stdout",
     "output_type": "stream",
     "text": [
      "Most suspicious class:  14\n",
      "Training for configuration ID: 19\n"
     ]
    },
    {
     "name": "stderr",
     "output_type": "stream",
     "text": [
      "100%|██████████| 801/801 [00:18<00:00, 44.43it/s]\n",
      "100%|██████████| 801/801 [00:17<00:00, 44.92it/s]\n"
     ]
    },
    {
     "name": "stdout",
     "output_type": "stream",
     "text": [
      "Most suspicious class:  14\n",
      "Training for configuration ID: 20\n"
     ]
    },
    {
     "name": "stderr",
     "output_type": "stream",
     "text": [
      "100%|██████████| 801/801 [00:17<00:00, 45.56it/s]\n",
      "100%|██████████| 801/801 [00:17<00:00, 45.42it/s]\n"
     ]
    },
    {
     "name": "stdout",
     "output_type": "stream",
     "text": [
      "Most suspicious class:  14\n",
      "Training for configuration ID: 21\n"
     ]
    },
    {
     "name": "stderr",
     "output_type": "stream",
     "text": [
      "100%|██████████| 801/801 [00:17<00:00, 44.96it/s]\n",
      "100%|██████████| 801/801 [00:17<00:00, 44.99it/s]\n"
     ]
    },
    {
     "name": "stdout",
     "output_type": "stream",
     "text": [
      "Most suspicious class:  14\n",
      "Training for configuration ID: 22\n"
     ]
    },
    {
     "name": "stderr",
     "output_type": "stream",
     "text": [
      "100%|██████████| 801/801 [00:17<00:00, 45.72it/s]\n",
      "100%|██████████| 801/801 [00:17<00:00, 44.83it/s]\n"
     ]
    },
    {
     "name": "stdout",
     "output_type": "stream",
     "text": [
      "Most suspicious class:  14\n",
      "Training for configuration ID: 23\n"
     ]
    },
    {
     "name": "stderr",
     "output_type": "stream",
     "text": [
      "100%|██████████| 801/801 [00:17<00:00, 45.38it/s]\n",
      "100%|██████████| 801/801 [00:17<00:00, 45.57it/s]\n"
     ]
    },
    {
     "name": "stdout",
     "output_type": "stream",
     "text": [
      "Most suspicious class:  14\n",
      "Training for configuration ID: 24\n"
     ]
    },
    {
     "name": "stderr",
     "output_type": "stream",
     "text": [
      "100%|██████████| 801/801 [00:17<00:00, 45.32it/s]\n",
      "100%|██████████| 801/801 [00:17<00:00, 45.16it/s]\n"
     ]
    },
    {
     "name": "stdout",
     "output_type": "stream",
     "text": [
      "Most suspicious class:  14\n",
      "Training completed for all configurations!\n"
     ]
    }
   ],
   "source": [
    "import pickle\n",
    "import warnings\n",
    "\n",
    "# Filter out specific warning\n",
    "warnings.filterwarnings(\"ignore\", category=FutureWarning)\n",
    "warnings.filterwarnings(\"ignore\", category=UserWarning)\n",
    "# Suppress all warnings\n",
    "warnings.filterwarnings(\"ignore\")\n",
    "\n",
    "device = torch.device(\"cuda\" if torch.cuda.is_available() else \"cpu\")\n",
    "# Automatically generate configurations\n",
    "configurations = [\n",
    "    {\n",
    "        \"id\": i,\n",
    "        \"train_path\": f\"/home/cc7486/Desktop/Research/Jupyter/pickle/trainset_{i}.pkl\",\n",
    "        \"clean_val_path\": f\"/home/cc7486/Desktop/Research/Jupyter/pickle/cl-viliset_{i}.pkl\",\n",
    "        \"back_val_path\": f\"/home/cc7486/Desktop/Research/Jupyter/pickle/bd-valiset_{i}.pkl\",\n",
    "        \"test_path\": f\"/home/cc7486/Desktop/Research/MLLsecurity/gtsrb-german-traffic-sign/backdoored-test/300/{i}\"\n",
    "    }\n",
    "    for i in range(1, 25)\n",
    "]\n",
    "# Transforming the Data ToTensor and Normalize it \n",
    "\n",
    "data_transforms = T.Compose([T.ToTensor(),T.Resize((224,224),antialias=True),T.Normalize(mean=[0.485, 0.456, 0.406], std=[0.229, 0.224, 0.225])])\n",
    "data_transforms_train  = T.Compose([T.ToTensor(),T.Resize((224,224),antialias=True)])\n",
    "normalize=T.Normalize(mean=[0.485, 0.456, 0.406], std=[0.229, 0.224, 0.225])\n",
    "batch_size = 32\n",
    "entropy_trojan=[]\n",
    "entropy_benigh=[]\n",
    "\n",
    "for config in configurations:\n",
    "    print(f\"Training for configuration ID: {config['id']}\")\n",
    "\n",
    "    # Initialize the model\n",
    "    num_classes = 43  # The number of output classes in your trained model\n",
    "    model = alexnet(weights=None, num_classes=43).to(device)\n",
    "    model_path=f\"models/50-epoch_model/alexnet_case_{config['id']}.pt\"\n",
    "    state_dict = torch.load(model_path, map_location=device)\n",
    "    model.load_state_dict(state_dict)\n",
    "    model.to(device)\n",
    "\n",
    " \n",
    "    # Training Dataset\n",
    "    train_dataset_path = config[\"train_path\"]\n",
    "    # train_dataset = TSignsDataset(train_dataset_path, transform=data_transforms_train)\n",
    "\n",
    "\n",
    "#     #clean validation images organized in directory for each class\n",
    "#     clean_validation_path = config[\"clean_val_path\"]\n",
    "#     clean_validation_dataset = TSignsDataset(clean_validation_path,transform=data_transforms)\n",
    "\n",
    "#     backdoored_validation_path = config[\"back_val_path\"]\n",
    "#     backdoored_validation_dataset = TSignsDataset(backdoored_validation_path,transform=data_transforms)\n",
    "\n",
    "    #splitting the data into training and validation \n",
    "#     L1 = len(train_dataset)\n",
    "#     L3 = len(clean_validation_dataset)\n",
    "#     L2 = len(backdoored_validation_dataset)\n",
    "#     print(f\"Total length of Dataset Imported: \",L1, L2, L3)\n",
    "\n",
    "\n",
    "    # Loading the data into DataLoader\n",
    "    with open(train_dataset_path, \"rb\") as pickle_file:\n",
    "        train_dataset = pickle.load(pickle_file)\n",
    "    pickle_file.close()\n",
    "    train_loader = DataLoader(dataset=train_dataset, batch_size=40, shuffle=True)\n",
    "#     clean_val_loader = DataLoader(dataset=clean_validation_dataset, batch_size=1, shuffle=False)\n",
    "#     bck_val_loader = DataLoader(dataset=backdoored_validation_dataset, batch_size=1, shuffle=False)\n",
    "\n",
    "    ##CLEANING THE TRAINING DATASET################################\n",
    "    # Assuming suspicious_indices is a list of indices for suspicious images\n",
    "    # msci=most_suspicious_class_info\n",
    "    msci_2,error_2,suspicious_indices = cleanser(train_loader, model, num_classes, device,verify_suspicious_indices)\n",
    "    msci_43,error_43,suspicious_indices = cleanser(train_loader, model, num_classes, device,verify_suspicious_indices,43)\n",
    "    if error_2 > error_43:\n",
    "        suspicious_class = msci_2\n",
    "    else:\n",
    "        suspicious_class = msci_43\n",
    "    \n",
    "    print(\"Most suspicious class: \", suspicious_class)\n",
    "    # print(\"Len of suspicious indices: \",len(suspicious_indices))\n",
    "\n",
    "    # verify_suspicious_indices(train_loader.dataset, suspicious_indices, most_suspicious_class)\n",
    "    # Assuming suspicious_indices contains the indices to be excluded\n",
    "#     clean_train_set = TSignsDataset(root_dir=train_dataset_path, transform=data_transforms, exclude_indices=suspicious_indices)\n",
    "\n",
    "#     clean_train_loader = DataLoader(dataset=clean_train_set, batch_size=batch_size, shuffle=True)\n",
    "\n",
    "\n",
    "#     dataloaders = {'training':clean_train_loader,\"clean\": clean_val_loader, \"backdoor\": bck_val_loader}\n",
    "#     dataset_sizes = {'training':len(clean_train_loader.dataset), \"clean\": len(clean_val_loader), \"backdoor\": len(bck_val_loader)}\n",
    "#     print(dataset_sizes)\n",
    "\n",
    "\n",
    "#     #initialize new model to train from scratch with only clean dataset \n",
    "#     new_model = alexnet(weights=None, num_classes=43).to(device)\n",
    "#     criterion = nn.CrossEntropyLoss()\n",
    "#     optimizer = optim.Adam(new_model.parameters(), lr=0.0001)\n",
    "#     num_epochs = 50\n",
    "#     out_path = f\"alexnet_activation_epochs50_backdoored_config{config['id']}.pt\"\n",
    "\n",
    "\n",
    "#     # Store metrics\n",
    "#     train_loss, clean_val_loss,backdoored_val_loss = [], [], []\n",
    "#     train_acc, clen_val_acc,val_backdoored_acc = [], [], []\n",
    "#     # Train the model\n",
    "#     train_loss, clean_val_loss,backdoored_val_loss ,train_acc, clean_val_acc, val_backdoored_acc,best_acc = Train(new_model, criterion, optimizer, num_epochs, batch_size, dataloaders, out_path,device)\n",
    "#     plot_accuracy(train_loss, clean_val_loss,backdoored_val_loss ,train_acc, clean_val_acc,val_backdoored_acc)\n",
    "#     print('Best validation Accuracy:', best_acc)\n",
    "    \n",
    "# #     #Test accuracy on Clean dataset\n",
    "#     print(\"Accuracy on Test Clean dataset \")\n",
    "#     test_dataset_clean = 'gtsrb-german-traffic-sign/Test'\n",
    "#     predict_on_clean_Dataset(test_dataset_clean, out_path, num_images_to_test=2000, device=device)\n",
    "    \n",
    "#     #Test accuracy on backdoored dataset\n",
    "#     print(\"Accuracy on Test Backdoored dataset\")\n",
    "#     test_dataset_path_backdoored=config[\"test_path\"]\n",
    "#     predict_on_backdoored_directory(test_dataset_path_backdoored, out_path, num_images_to_test=400, device=device)\n",
    "# \n",
    "\n",
    "print(\"Training completed for all configurations!\")\n",
    "\n",
    "\n"
   ]
  },
  {
   "cell_type": "code",
   "execution_count": 12,
   "metadata": {},
   "outputs": [
    {
     "name": "stdout",
     "output_type": "stream",
     "text": [
      "Training for configuration ID: 1\n"
     ]
    },
    {
     "name": "stderr",
     "output_type": "stream",
     "text": [
      "100%|██████████| 1010/1010 [00:20<00:00, 48.34it/s]\n",
      "100%|██████████| 1010/1010 [00:20<00:00, 48.50it/s]\n"
     ]
    },
    {
     "name": "stdout",
     "output_type": "stream",
     "text": [
      "Most suspicious class:  7\n",
      "Training for configuration ID: 2\n"
     ]
    },
    {
     "name": "stderr",
     "output_type": "stream",
     "text": [
      "100%|██████████| 1010/1010 [00:21<00:00, 47.68it/s]\n",
      "100%|██████████| 1010/1010 [00:20<00:00, 49.08it/s]\n"
     ]
    },
    {
     "name": "stdout",
     "output_type": "stream",
     "text": [
      "Most suspicious class:  7\n",
      "Training for configuration ID: 3\n"
     ]
    },
    {
     "name": "stderr",
     "output_type": "stream",
     "text": [
      "100%|██████████| 1010/1010 [00:20<00:00, 48.82it/s]\n",
      "100%|██████████| 1010/1010 [00:20<00:00, 48.15it/s]\n"
     ]
    },
    {
     "name": "stdout",
     "output_type": "stream",
     "text": [
      "Most suspicious class:  7\n",
      "Training for configuration ID: 4\n"
     ]
    },
    {
     "name": "stderr",
     "output_type": "stream",
     "text": [
      "100%|██████████| 1010/1010 [00:20<00:00, 49.17it/s]\n",
      "100%|██████████| 1010/1010 [00:20<00:00, 48.98it/s]\n"
     ]
    },
    {
     "name": "stdout",
     "output_type": "stream",
     "text": [
      "Most suspicious class:  7\n",
      "Training for configuration ID: 5\n"
     ]
    },
    {
     "name": "stderr",
     "output_type": "stream",
     "text": [
      "100%|██████████| 1010/1010 [00:20<00:00, 48.16it/s]\n",
      "100%|██████████| 1010/1010 [00:20<00:00, 48.46it/s]\n"
     ]
    },
    {
     "name": "stdout",
     "output_type": "stream",
     "text": [
      "Most suspicious class:  7\n",
      "Training for configuration ID: 6\n"
     ]
    },
    {
     "name": "stderr",
     "output_type": "stream",
     "text": [
      "100%|██████████| 1010/1010 [00:20<00:00, 48.40it/s]\n",
      "100%|██████████| 1010/1010 [00:20<00:00, 49.25it/s]\n"
     ]
    },
    {
     "name": "stdout",
     "output_type": "stream",
     "text": [
      "Most suspicious class:  7\n",
      "Training for configuration ID: 7\n"
     ]
    },
    {
     "name": "stderr",
     "output_type": "stream",
     "text": [
      "100%|██████████| 1010/1010 [00:20<00:00, 48.91it/s]\n",
      "100%|██████████| 1010/1010 [00:20<00:00, 49.11it/s]\n"
     ]
    },
    {
     "name": "stdout",
     "output_type": "stream",
     "text": [
      "Most suspicious class:  7\n",
      "Training for configuration ID: 8\n"
     ]
    },
    {
     "name": "stderr",
     "output_type": "stream",
     "text": [
      "100%|██████████| 1010/1010 [00:20<00:00, 48.61it/s]\n",
      "100%|██████████| 1010/1010 [00:20<00:00, 48.78it/s]\n"
     ]
    },
    {
     "name": "stdout",
     "output_type": "stream",
     "text": [
      "Most suspicious class:  7\n",
      "Training for configuration ID: 9\n"
     ]
    },
    {
     "name": "stderr",
     "output_type": "stream",
     "text": [
      "100%|██████████| 1010/1010 [00:20<00:00, 48.89it/s]\n",
      "100%|██████████| 1010/1010 [00:21<00:00, 47.47it/s]\n"
     ]
    },
    {
     "name": "stdout",
     "output_type": "stream",
     "text": [
      "Most suspicious class:  7\n",
      "Training for configuration ID: 10\n"
     ]
    },
    {
     "name": "stderr",
     "output_type": "stream",
     "text": [
      "100%|██████████| 1010/1010 [00:20<00:00, 48.49it/s]\n",
      "100%|██████████| 1010/1010 [00:20<00:00, 49.15it/s]\n"
     ]
    },
    {
     "name": "stdout",
     "output_type": "stream",
     "text": [
      "Most suspicious class:  7\n",
      "Training for configuration ID: 11\n"
     ]
    },
    {
     "name": "stderr",
     "output_type": "stream",
     "text": [
      "100%|██████████| 1010/1010 [00:20<00:00, 48.29it/s]\n",
      "100%|██████████| 1010/1010 [00:20<00:00, 48.50it/s]\n"
     ]
    },
    {
     "name": "stdout",
     "output_type": "stream",
     "text": [
      "Most suspicious class:  7\n",
      "Training for configuration ID: 12\n"
     ]
    },
    {
     "name": "stderr",
     "output_type": "stream",
     "text": [
      "100%|██████████| 1010/1010 [00:21<00:00, 46.26it/s]\n",
      "100%|██████████| 1010/1010 [00:20<00:00, 48.10it/s]\n"
     ]
    },
    {
     "name": "stdout",
     "output_type": "stream",
     "text": [
      "Most suspicious class:  7\n",
      "Training for configuration ID: 13\n"
     ]
    },
    {
     "name": "stderr",
     "output_type": "stream",
     "text": [
      "100%|██████████| 1010/1010 [00:21<00:00, 47.73it/s]\n",
      "100%|██████████| 1010/1010 [00:21<00:00, 47.95it/s]\n"
     ]
    },
    {
     "name": "stdout",
     "output_type": "stream",
     "text": [
      "Most suspicious class:  7\n",
      "Training for configuration ID: 14\n"
     ]
    },
    {
     "name": "stderr",
     "output_type": "stream",
     "text": [
      "100%|██████████| 1010/1010 [00:20<00:00, 48.35it/s]\n",
      "100%|██████████| 1010/1010 [00:20<00:00, 48.22it/s]\n"
     ]
    },
    {
     "name": "stdout",
     "output_type": "stream",
     "text": [
      "Most suspicious class:  7\n",
      "Training for configuration ID: 15\n"
     ]
    },
    {
     "name": "stderr",
     "output_type": "stream",
     "text": [
      "100%|██████████| 1010/1010 [00:20<00:00, 48.11it/s]\n",
      "100%|██████████| 1010/1010 [00:21<00:00, 47.89it/s]\n"
     ]
    },
    {
     "name": "stdout",
     "output_type": "stream",
     "text": [
      "Most suspicious class:  7\n",
      "Training for configuration ID: 16\n"
     ]
    },
    {
     "name": "stderr",
     "output_type": "stream",
     "text": [
      "100%|██████████| 1010/1010 [00:21<00:00, 47.91it/s]\n",
      "100%|██████████| 1010/1010 [00:21<00:00, 47.66it/s]\n"
     ]
    },
    {
     "name": "stdout",
     "output_type": "stream",
     "text": [
      "Most suspicious class:  7\n",
      "Training for configuration ID: 17\n"
     ]
    },
    {
     "name": "stderr",
     "output_type": "stream",
     "text": [
      "100%|██████████| 1010/1010 [00:21<00:00, 47.77it/s]\n",
      "100%|██████████| 1010/1010 [00:21<00:00, 47.70it/s]\n"
     ]
    },
    {
     "name": "stdout",
     "output_type": "stream",
     "text": [
      "Most suspicious class:  7\n",
      "Training for configuration ID: 18\n"
     ]
    },
    {
     "name": "stderr",
     "output_type": "stream",
     "text": [
      "100%|██████████| 1010/1010 [00:21<00:00, 48.05it/s]\n",
      "100%|██████████| 1010/1010 [00:20<00:00, 48.22it/s]\n"
     ]
    },
    {
     "name": "stdout",
     "output_type": "stream",
     "text": [
      "Most suspicious class:  7\n",
      "Training for configuration ID: 19\n"
     ]
    },
    {
     "name": "stderr",
     "output_type": "stream",
     "text": [
      "100%|██████████| 1010/1010 [00:21<00:00, 48.04it/s]\n",
      "100%|██████████| 1010/1010 [00:21<00:00, 47.61it/s]\n"
     ]
    },
    {
     "name": "stdout",
     "output_type": "stream",
     "text": [
      "Most suspicious class:  7\n",
      "Training for configuration ID: 20\n"
     ]
    },
    {
     "name": "stderr",
     "output_type": "stream",
     "text": [
      "100%|██████████| 1010/1010 [00:21<00:00, 47.74it/s]\n",
      "100%|██████████| 1010/1010 [00:21<00:00, 47.95it/s]\n"
     ]
    },
    {
     "name": "stdout",
     "output_type": "stream",
     "text": [
      "Most suspicious class:  7\n",
      "Training for configuration ID: 21\n"
     ]
    },
    {
     "name": "stderr",
     "output_type": "stream",
     "text": [
      "100%|██████████| 1010/1010 [00:21<00:00, 48.02it/s]\n",
      "100%|██████████| 1010/1010 [00:21<00:00, 47.59it/s]\n"
     ]
    },
    {
     "name": "stdout",
     "output_type": "stream",
     "text": [
      "Most suspicious class:  7\n",
      "Training for configuration ID: 22\n"
     ]
    },
    {
     "name": "stderr",
     "output_type": "stream",
     "text": [
      "100%|██████████| 1010/1010 [00:21<00:00, 46.98it/s]\n",
      "100%|██████████| 1010/1010 [00:21<00:00, 47.67it/s]\n"
     ]
    },
    {
     "name": "stdout",
     "output_type": "stream",
     "text": [
      "Most suspicious class:  7\n",
      "Training for configuration ID: 23\n"
     ]
    },
    {
     "name": "stderr",
     "output_type": "stream",
     "text": [
      "100%|██████████| 1010/1010 [00:21<00:00, 47.74it/s]\n",
      "100%|██████████| 1010/1010 [00:21<00:00, 47.52it/s]\n"
     ]
    },
    {
     "name": "stdout",
     "output_type": "stream",
     "text": [
      "Most suspicious class:  7\n",
      "Training for configuration ID: 24\n"
     ]
    },
    {
     "name": "stderr",
     "output_type": "stream",
     "text": [
      "100%|██████████| 1010/1010 [00:20<00:00, 48.54it/s]\n",
      "100%|██████████| 1010/1010 [00:21<00:00, 47.67it/s]\n"
     ]
    },
    {
     "name": "stdout",
     "output_type": "stream",
     "text": [
      "Most suspicious class:  7\n",
      "Training completed for all configurations!\n"
     ]
    }
   ],
   "source": [
    "import pickle\n",
    "import warnings\n",
    "\n",
    "# Filter out specific warning\n",
    "warnings.filterwarnings(\"ignore\", category=FutureWarning)\n",
    "warnings.filterwarnings(\"ignore\", category=UserWarning)\n",
    "# Suppress all warnings\n",
    "warnings.filterwarnings(\"ignore\")\n",
    "\n",
    "device = torch.device(\"cuda\" if torch.cuda.is_available() else \"cpu\")\n",
    "# Automatically generate configurations\n",
    "configurations = [\n",
    "    {\n",
    "        \"id\": i,\n",
    "        \"train_path\": f\"/home/cc7486/Desktop/Research/Jupyter/pickle/cifar/trainset_{i}.pkl\",\n",
    "        \"clean_val_path\": f\"/home/cc7486/Desktop/Research/Jupyter/pickle/cifar/cl-viliset_{i}.pkl\",\n",
    "        \"back_val_path\": f\"/home/cc7486/Desktop/Research/Jupyter/pickle/cifar/bd-valiset_{i}.pkl\",\n",
    "        \"test_path\": f\"/home/cc7486/Desktop/Research/cifar10/cifar10/test/{i}\"\n",
    "    }\n",
    "    for i in range(1, 25)\n",
    "]\n",
    "# Transforming the Data ToTensor and Normalize it \n",
    "\n",
    "data_transforms = T.Compose([T.ToTensor(),T.Resize((224,224),antialias=True),T.Normalize(mean=[0.485, 0.456, 0.406], std=[0.229, 0.224, 0.225])])\n",
    "data_transforms_train  = T.Compose([T.ToTensor(),T.Resize((224,224),antialias=True)])\n",
    "normalize=T.Normalize(mean=[0.485, 0.456, 0.406], std=[0.229, 0.224, 0.225])\n",
    "batch_size = 32\n",
    "entropy_trojan=[]\n",
    "entropy_benigh=[]\n",
    "\n",
    "for config in configurations:\n",
    "    print(f\"Training for configuration ID: {config['id']}\")\n",
    "\n",
    "    # Initialize the model\n",
    "    num_classes = 10  # The number of output classes in your trained model\n",
    "    model = alexnet(weights=None, num_classes=10).to(device)\n",
    "    model_path=f\"models/cifar_models/alexnet_case_{config['id']}.pt\"\n",
    "    state_dict = torch.load(model_path, map_location=device)\n",
    "    model.load_state_dict(state_dict)\n",
    "    model.to(device)\n",
    "\n",
    " \n",
    "    # Training Dataset\n",
    "    train_dataset_path = config[\"train_path\"]\n",
    "    # train_dataset = TSignsDataset(train_dataset_path, transform=data_transforms_train)\n",
    "\n",
    "\n",
    "#     #clean validation images organized in directory for each class\n",
    "#     clean_validation_path = config[\"clean_val_path\"]\n",
    "#     clean_validation_dataset = TSignsDataset(clean_validation_path,transform=data_transforms)\n",
    "\n",
    "#     backdoored_validation_path = config[\"back_val_path\"]\n",
    "#     backdoored_validation_dataset = TSignsDataset(backdoored_validation_path,transform=data_transforms)\n",
    "\n",
    "    #splitting the data into training and validation \n",
    "#     L1 = len(train_dataset)\n",
    "#     L3 = len(clean_validation_dataset)\n",
    "#     L2 = len(backdoored_validation_dataset)\n",
    "#     print(f\"Total length of Dataset Imported: \",L1, L2, L3)\n",
    "\n",
    "\n",
    "    # Loading the data into DataLoader\n",
    "    with open(train_dataset_path, \"rb\") as pickle_file:\n",
    "        train_dataset = pickle.load(pickle_file)\n",
    "    pickle_file.close()\n",
    "    train_loader = DataLoader(dataset=train_dataset, batch_size=40, shuffle=True)\n",
    "#     clean_val_loader = DataLoader(dataset=clean_validation_dataset, batch_size=1, shuffle=False)\n",
    "#     bck_val_loader = DataLoader(dataset=backdoored_validation_dataset, batch_size=1, shuffle=False)\n",
    "\n",
    "    ##CLEANING THE TRAINING DATASET################################\n",
    "    # Assuming suspicious_indices is a list of indices for suspicious images\n",
    "    # msci=most_suspicious_class_info\n",
    "    msci_2,error_2,suspicious_indices = cleanser(train_loader, model, num_classes, device,verify_suspicious_indices)\n",
    "    msci_43,error_43,suspicious_indices = cleanser(train_loader, model, num_classes, device,verify_suspicious_indices,num_classes)\n",
    "    if error_2 > error_43:\n",
    "        suspicious_class = msci_2\n",
    "    else:\n",
    "        suspicious_class = msci_43\n",
    "    \n",
    "    print(\"Most suspicious class: \", suspicious_class)\n",
    "    # print(\"Len of suspicious indices: \",len(suspicious_indices))\n",
    "\n",
    "    # verify_suspicious_indices(train_loader.dataset, suspicious_indices, most_suspicious_class)\n",
    "    # Assuming suspicious_indices contains the indices to be excluded\n",
    "#     clean_train_set = TSignsDataset(root_dir=train_dataset_path, transform=data_transforms, exclude_indices=suspicious_indices)\n",
    "\n",
    "#     clean_train_loader = DataLoader(dataset=clean_train_set, batch_size=batch_size, shuffle=True)\n",
    "\n",
    "\n",
    "#     dataloaders = {'training':clean_train_loader,\"clean\": clean_val_loader, \"backdoor\": bck_val_loader}\n",
    "#     dataset_sizes = {'training':len(clean_train_loader.dataset), \"clean\": len(clean_val_loader), \"backdoor\": len(bck_val_loader)}\n",
    "#     print(dataset_sizes)\n",
    "\n",
    "\n",
    "#     #initialize new model to train from scratch with only clean dataset \n",
    "#     new_model = alexnet(weights=None, num_classes=43).to(device)\n",
    "#     criterion = nn.CrossEntropyLoss()\n",
    "#     optimizer = optim.Adam(new_model.parameters(), lr=0.0001)\n",
    "#     num_epochs = 50\n",
    "#     out_path = f\"alexnet_activation_epochs50_backdoored_config{config['id']}.pt\"\n",
    "\n",
    "\n",
    "#     # Store metrics\n",
    "#     train_loss, clean_val_loss,backdoored_val_loss = [], [], []\n",
    "#     train_acc, clen_val_acc,val_backdoored_acc = [], [], []\n",
    "#     # Train the model\n",
    "#     train_loss, clean_val_loss,backdoored_val_loss ,train_acc, clean_val_acc, val_backdoored_acc,best_acc = Train(new_model, criterion, optimizer, num_epochs, batch_size, dataloaders, out_path,device)\n",
    "#     plot_accuracy(train_loss, clean_val_loss,backdoored_val_loss ,train_acc, clean_val_acc,val_backdoored_acc)\n",
    "#     print('Best validation Accuracy:', best_acc)\n",
    "    \n",
    "# #     #Test accuracy on Clean dataset\n",
    "#     print(\"Accuracy on Test Clean dataset \")\n",
    "#     test_dataset_clean = 'gtsrb-german-traffic-sign/Test'\n",
    "#     predict_on_clean_Dataset(test_dataset_clean, out_path, num_images_to_test=2000, device=device)\n",
    "    \n",
    "#     #Test accuracy on backdoored dataset\n",
    "#     print(\"Accuracy on Test Backdoored dataset\")\n",
    "#     test_dataset_path_backdoored=config[\"test_path\"]\n",
    "#     predict_on_backdoored_directory(test_dataset_path_backdoored, out_path, num_images_to_test=400, device=device)\n",
    "# \n",
    "\n",
    "print(\"Training completed for all configurations!\")"
   ]
  }
 ],
 "metadata": {
  "kernelspec": {
   "display_name": "torch",
   "language": "python",
   "name": "python3"
  },
  "language_info": {
   "codemirror_mode": {
    "name": "ipython",
    "version": 3
   },
   "file_extension": ".py",
   "mimetype": "text/x-python",
   "name": "python",
   "nbconvert_exporter": "python",
   "pygments_lexer": "ipython3",
   "version": "3.11.5"
  }
 },
 "nbformat": 4,
 "nbformat_minor": 2
}
